{
 "cells": [
  {
   "cell_type": "code",
   "execution_count": 152,
   "metadata": {},
   "outputs": [],
   "source": [
    "import pandas as pd\n",
    "import ast\n",
    "\n",
    "compiled_field_1 = pd.read_csv(\"../csv/FINAL_HOCS/lf_data_FINAL1.csv\", index_col=None)\n",
    "compiled_field_2 = pd.read_csv(\"../csv/FINAL_HOCS/lf_data_FINAL2.csv\", index_col=None)\n",
    "compiled_field_3 = pd.read_csv(\"../csv/FINAL_HOCS/lf_data_FINAL3.csv\", index_col=None)\n",
    "field = pd.concat([compiled_field_1, compiled_field_2, compiled_field_3])\n",
    "field = field.reset_index(drop=True)\n",
    "# field = compiled_field_3\n",
    "# field = field.reset_index(drop=True)"
   ]
  },
  {
   "cell_type": "code",
   "execution_count": 153,
   "metadata": {},
   "outputs": [],
   "source": [
    "area = [ast.literal_eval(d.replace('.', '.0,').replace('\\n', \"\")) for d in field['area_hist_values']]\n",
    "int = [ast.literal_eval(d.replace('.', '.0,').replace('\\n', \"\")) for d in field['int_hist_values']]\n",
    "plant = field['plant']"
   ]
  },
  {
   "cell_type": "code",
   "execution_count": 154,
   "metadata": {},
   "outputs": [
    {
     "data": {
      "text/html": [
       "<div>\n",
       "<style scoped>\n",
       "    .dataframe tbody tr th:only-of-type {\n",
       "        vertical-align: middle;\n",
       "    }\n",
       "\n",
       "    .dataframe tbody tr th {\n",
       "        vertical-align: top;\n",
       "    }\n",
       "\n",
       "    .dataframe thead th {\n",
       "        text-align: right;\n",
       "    }\n",
       "</style>\n",
       "<table border=\"1\" class=\"dataframe\">\n",
       "  <thead>\n",
       "    <tr style=\"text-align: right;\">\n",
       "      <th></th>\n",
       "      <th>area_hist_values</th>\n",
       "      <th>int_hist_values</th>\n",
       "      <th>plant</th>\n",
       "    </tr>\n",
       "  </thead>\n",
       "  <tbody>\n",
       "    <tr>\n",
       "      <th>0</th>\n",
       "      <td>[0.0, 0.0, 0.0, 0.0, 0.0, 0.0, 1.0, 6.0, 6.0, ...</td>\n",
       "      <td>[3.0, 6.0, 13.0, 23.0, 23.0, 24.0, 12.0, 7.0, ...</td>\n",
       "      <td>acer_campestre</td>\n",
       "    </tr>\n",
       "    <tr>\n",
       "      <th>1</th>\n",
       "      <td>[0.0, 0.0, 0.0, 0.0, 0.0, 0.0, 3.0, 7.0, 5.0, ...</td>\n",
       "      <td>[2.0, 6.0, 25.0, 33.0, 31.0, 32.0, 25.0, 16.0,...</td>\n",
       "      <td>acer_campestre</td>\n",
       "    </tr>\n",
       "    <tr>\n",
       "      <th>2</th>\n",
       "      <td>[0.0, 0.0, 0.0, 0.0, 0.0, 5.0, 1.0, 5.0, 9.0, ...</td>\n",
       "      <td>[8.0, 11.0, 28.0, 31.0, 30.0, 28.0, 23.0, 23.0...</td>\n",
       "      <td>acer_campestre</td>\n",
       "    </tr>\n",
       "    <tr>\n",
       "      <th>3</th>\n",
       "      <td>[0.0, 0.0, 0.0, 0.0, 0.0, 0.0, 3.0, 6.0, 7.0, ...</td>\n",
       "      <td>[47.0, 111.0, 68.0, 26.0, 13.0, 2.0, 12.0, 2.0...</td>\n",
       "      <td>acer_campestre</td>\n",
       "    </tr>\n",
       "    <tr>\n",
       "      <th>4</th>\n",
       "      <td>[0.0, 0.0, 0.0, 0.0, 0.0, 1.0, 3.0, 4.0, 5.0, ...</td>\n",
       "      <td>[2.0, 19.0, 30.0, 30.0, 31.0, 20.0, 12.0, 8.0,...</td>\n",
       "      <td>acer_campestre</td>\n",
       "    </tr>\n",
       "    <tr>\n",
       "      <th>...</th>\n",
       "      <td>...</td>\n",
       "      <td>...</td>\n",
       "      <td>...</td>\n",
       "    </tr>\n",
       "    <tr>\n",
       "      <th>5621</th>\n",
       "      <td>[0.0, 4.0, 5.0, 3.0, 2.0, 1.0, 2.0, 1.0, 4.0, ...</td>\n",
       "      <td>[6.0, 44.0, 65.0, 39.0, 14.0, 11.0, 7.0, 6.0, ...</td>\n",
       "      <td>zelkova_serrata</td>\n",
       "    </tr>\n",
       "    <tr>\n",
       "      <th>5622</th>\n",
       "      <td>[0.0, 0.0, 0.0, 0.0, 0.0, 0.0, 0.0, 0.0, 2.0, ...</td>\n",
       "      <td>[2.0, 8.0, 17.0, 30.0, 30.0, 33.0, 35.0, 15.0,...</td>\n",
       "      <td>zelkova_serrata</td>\n",
       "    </tr>\n",
       "    <tr>\n",
       "      <th>5623</th>\n",
       "      <td>[0.0, 0.0, 2.0, 2.0, 0.0, 1.0, 1.0, 0.0, 0.0, ...</td>\n",
       "      <td>[8.0, 41.0, 35.0, 31.0, 20.0, 23.0, 19.0, 6.0,...</td>\n",
       "      <td>zelkova_serrata</td>\n",
       "    </tr>\n",
       "    <tr>\n",
       "      <th>5624</th>\n",
       "      <td>[0.0, 0.0, 0.0, 0.0, 3.0, 2.0, 1.0, 3.0, 0.0, ...</td>\n",
       "      <td>[1.0, 27.0, 50.0, 54.0, 28.0, 21.0, 17.0, 5.0,...</td>\n",
       "      <td>zelkova_serrata</td>\n",
       "    </tr>\n",
       "    <tr>\n",
       "      <th>5625</th>\n",
       "      <td>[0.0, 0.0, 0.0, 0.0, 0.0, 1.0, 2.0, 2.0, 0.0, ...</td>\n",
       "      <td>[4.0, 14.0, 21.0, 24.0, 36.0, 31.0, 17.0, 19.0...</td>\n",
       "      <td>zelkova_serrata</td>\n",
       "    </tr>\n",
       "  </tbody>\n",
       "</table>\n",
       "<p>5626 rows × 3 columns</p>\n",
       "</div>"
      ],
      "text/plain": [
       "                                       area_hist_values  \\\n",
       "0     [0.0, 0.0, 0.0, 0.0, 0.0, 0.0, 1.0, 6.0, 6.0, ...   \n",
       "1     [0.0, 0.0, 0.0, 0.0, 0.0, 0.0, 3.0, 7.0, 5.0, ...   \n",
       "2     [0.0, 0.0, 0.0, 0.0, 0.0, 5.0, 1.0, 5.0, 9.0, ...   \n",
       "3     [0.0, 0.0, 0.0, 0.0, 0.0, 0.0, 3.0, 6.0, 7.0, ...   \n",
       "4     [0.0, 0.0, 0.0, 0.0, 0.0, 1.0, 3.0, 4.0, 5.0, ...   \n",
       "...                                                 ...   \n",
       "5621  [0.0, 4.0, 5.0, 3.0, 2.0, 1.0, 2.0, 1.0, 4.0, ...   \n",
       "5622  [0.0, 0.0, 0.0, 0.0, 0.0, 0.0, 0.0, 0.0, 2.0, ...   \n",
       "5623  [0.0, 0.0, 2.0, 2.0, 0.0, 1.0, 1.0, 0.0, 0.0, ...   \n",
       "5624  [0.0, 0.0, 0.0, 0.0, 3.0, 2.0, 1.0, 3.0, 0.0, ...   \n",
       "5625  [0.0, 0.0, 0.0, 0.0, 0.0, 1.0, 2.0, 2.0, 0.0, ...   \n",
       "\n",
       "                                        int_hist_values            plant  \n",
       "0     [3.0, 6.0, 13.0, 23.0, 23.0, 24.0, 12.0, 7.0, ...   acer_campestre  \n",
       "1     [2.0, 6.0, 25.0, 33.0, 31.0, 32.0, 25.0, 16.0,...   acer_campestre  \n",
       "2     [8.0, 11.0, 28.0, 31.0, 30.0, 28.0, 23.0, 23.0...   acer_campestre  \n",
       "3     [47.0, 111.0, 68.0, 26.0, 13.0, 2.0, 12.0, 2.0...   acer_campestre  \n",
       "4     [2.0, 19.0, 30.0, 30.0, 31.0, 20.0, 12.0, 8.0,...   acer_campestre  \n",
       "...                                                 ...              ...  \n",
       "5621  [6.0, 44.0, 65.0, 39.0, 14.0, 11.0, 7.0, 6.0, ...  zelkova_serrata  \n",
       "5622  [2.0, 8.0, 17.0, 30.0, 30.0, 33.0, 35.0, 15.0,...  zelkova_serrata  \n",
       "5623  [8.0, 41.0, 35.0, 31.0, 20.0, 23.0, 19.0, 6.0,...  zelkova_serrata  \n",
       "5624  [1.0, 27.0, 50.0, 54.0, 28.0, 21.0, 17.0, 5.0,...  zelkova_serrata  \n",
       "5625  [4.0, 14.0, 21.0, 24.0, 36.0, 31.0, 17.0, 19.0...  zelkova_serrata  \n",
       "\n",
       "[5626 rows x 3 columns]"
      ]
     },
     "execution_count": 154,
     "metadata": {},
     "output_type": "execute_result"
    }
   ],
   "source": [
    "field = pd.DataFrame({'area_hist_values' : area, 'int_hist_values' : int, 'plant' : plant})\n",
    "field"
   ]
  },
  {
   "cell_type": "code",
   "execution_count": 158,
   "metadata": {},
   "outputs": [],
   "source": [
    "field_copy = field.copy()\n",
    "\n",
    "for index,row in field_copy.iterrows():\n",
    "    if (len(field_copy['area_hist_values'][index]) != 525) or (len(field_copy['int_hist_values'][index]) != 525):\n",
    "        field_copy.drop([index], inplace = True)"
   ]
  },
  {
   "cell_type": "code",
   "execution_count": 160,
   "metadata": {},
   "outputs": [
    {
     "data": {
      "text/html": [
       "<div>\n",
       "<style scoped>\n",
       "    .dataframe tbody tr th:only-of-type {\n",
       "        vertical-align: middle;\n",
       "    }\n",
       "\n",
       "    .dataframe tbody tr th {\n",
       "        vertical-align: top;\n",
       "    }\n",
       "\n",
       "    .dataframe thead th {\n",
       "        text-align: right;\n",
       "    }\n",
       "</style>\n",
       "<table border=\"1\" class=\"dataframe\">\n",
       "  <thead>\n",
       "    <tr style=\"text-align: right;\">\n",
       "      <th></th>\n",
       "      <th>area_hist_values</th>\n",
       "      <th>int_hist_values</th>\n",
       "      <th>plant</th>\n",
       "    </tr>\n",
       "  </thead>\n",
       "  <tbody>\n",
       "    <tr>\n",
       "      <th>0</th>\n",
       "      <td>[0.0, 0.0, 0.0, 0.0, 0.0, 0.0, 1.0, 6.0, 6.0, ...</td>\n",
       "      <td>[3.0, 6.0, 13.0, 23.0, 23.0, 24.0, 12.0, 7.0, ...</td>\n",
       "      <td>acer_campestre</td>\n",
       "    </tr>\n",
       "    <tr>\n",
       "      <th>1</th>\n",
       "      <td>[0.0, 0.0, 0.0, 0.0, 0.0, 0.0, 3.0, 7.0, 5.0, ...</td>\n",
       "      <td>[2.0, 6.0, 25.0, 33.0, 31.0, 32.0, 25.0, 16.0,...</td>\n",
       "      <td>acer_campestre</td>\n",
       "    </tr>\n",
       "    <tr>\n",
       "      <th>2</th>\n",
       "      <td>[0.0, 0.0, 0.0, 0.0, 0.0, 5.0, 1.0, 5.0, 9.0, ...</td>\n",
       "      <td>[8.0, 11.0, 28.0, 31.0, 30.0, 28.0, 23.0, 23.0...</td>\n",
       "      <td>acer_campestre</td>\n",
       "    </tr>\n",
       "    <tr>\n",
       "      <th>3</th>\n",
       "      <td>[0.0, 0.0, 0.0, 0.0, 0.0, 0.0, 3.0, 6.0, 7.0, ...</td>\n",
       "      <td>[47.0, 111.0, 68.0, 26.0, 13.0, 2.0, 12.0, 2.0...</td>\n",
       "      <td>acer_campestre</td>\n",
       "    </tr>\n",
       "    <tr>\n",
       "      <th>4</th>\n",
       "      <td>[0.0, 0.0, 0.0, 0.0, 0.0, 1.0, 3.0, 4.0, 5.0, ...</td>\n",
       "      <td>[2.0, 19.0, 30.0, 30.0, 31.0, 20.0, 12.0, 8.0,...</td>\n",
       "      <td>acer_campestre</td>\n",
       "    </tr>\n",
       "    <tr>\n",
       "      <th>...</th>\n",
       "      <td>...</td>\n",
       "      <td>...</td>\n",
       "      <td>...</td>\n",
       "    </tr>\n",
       "    <tr>\n",
       "      <th>5621</th>\n",
       "      <td>[0.0, 4.0, 5.0, 3.0, 2.0, 1.0, 2.0, 1.0, 4.0, ...</td>\n",
       "      <td>[6.0, 44.0, 65.0, 39.0, 14.0, 11.0, 7.0, 6.0, ...</td>\n",
       "      <td>zelkova_serrata</td>\n",
       "    </tr>\n",
       "    <tr>\n",
       "      <th>5622</th>\n",
       "      <td>[0.0, 0.0, 0.0, 0.0, 0.0, 0.0, 0.0, 0.0, 2.0, ...</td>\n",
       "      <td>[2.0, 8.0, 17.0, 30.0, 30.0, 33.0, 35.0, 15.0,...</td>\n",
       "      <td>zelkova_serrata</td>\n",
       "    </tr>\n",
       "    <tr>\n",
       "      <th>5623</th>\n",
       "      <td>[0.0, 0.0, 2.0, 2.0, 0.0, 1.0, 1.0, 0.0, 0.0, ...</td>\n",
       "      <td>[8.0, 41.0, 35.0, 31.0, 20.0, 23.0, 19.0, 6.0,...</td>\n",
       "      <td>zelkova_serrata</td>\n",
       "    </tr>\n",
       "    <tr>\n",
       "      <th>5624</th>\n",
       "      <td>[0.0, 0.0, 0.0, 0.0, 3.0, 2.0, 1.0, 3.0, 0.0, ...</td>\n",
       "      <td>[1.0, 27.0, 50.0, 54.0, 28.0, 21.0, 17.0, 5.0,...</td>\n",
       "      <td>zelkova_serrata</td>\n",
       "    </tr>\n",
       "    <tr>\n",
       "      <th>5625</th>\n",
       "      <td>[0.0, 0.0, 0.0, 0.0, 0.0, 1.0, 2.0, 2.0, 0.0, ...</td>\n",
       "      <td>[4.0, 14.0, 21.0, 24.0, 36.0, 31.0, 17.0, 19.0...</td>\n",
       "      <td>zelkova_serrata</td>\n",
       "    </tr>\n",
       "  </tbody>\n",
       "</table>\n",
       "<p>5626 rows × 3 columns</p>\n",
       "</div>"
      ],
      "text/plain": [
       "                                       area_hist_values  \\\n",
       "0     [0.0, 0.0, 0.0, 0.0, 0.0, 0.0, 1.0, 6.0, 6.0, ...   \n",
       "1     [0.0, 0.0, 0.0, 0.0, 0.0, 0.0, 3.0, 7.0, 5.0, ...   \n",
       "2     [0.0, 0.0, 0.0, 0.0, 0.0, 5.0, 1.0, 5.0, 9.0, ...   \n",
       "3     [0.0, 0.0, 0.0, 0.0, 0.0, 0.0, 3.0, 6.0, 7.0, ...   \n",
       "4     [0.0, 0.0, 0.0, 0.0, 0.0, 1.0, 3.0, 4.0, 5.0, ...   \n",
       "...                                                 ...   \n",
       "5621  [0.0, 4.0, 5.0, 3.0, 2.0, 1.0, 2.0, 1.0, 4.0, ...   \n",
       "5622  [0.0, 0.0, 0.0, 0.0, 0.0, 0.0, 0.0, 0.0, 2.0, ...   \n",
       "5623  [0.0, 0.0, 2.0, 2.0, 0.0, 1.0, 1.0, 0.0, 0.0, ...   \n",
       "5624  [0.0, 0.0, 0.0, 0.0, 3.0, 2.0, 1.0, 3.0, 0.0, ...   \n",
       "5625  [0.0, 0.0, 0.0, 0.0, 0.0, 1.0, 2.0, 2.0, 0.0, ...   \n",
       "\n",
       "                                        int_hist_values            plant  \n",
       "0     [3.0, 6.0, 13.0, 23.0, 23.0, 24.0, 12.0, 7.0, ...   acer_campestre  \n",
       "1     [2.0, 6.0, 25.0, 33.0, 31.0, 32.0, 25.0, 16.0,...   acer_campestre  \n",
       "2     [8.0, 11.0, 28.0, 31.0, 30.0, 28.0, 23.0, 23.0...   acer_campestre  \n",
       "3     [47.0, 111.0, 68.0, 26.0, 13.0, 2.0, 12.0, 2.0...   acer_campestre  \n",
       "4     [2.0, 19.0, 30.0, 30.0, 31.0, 20.0, 12.0, 8.0,...   acer_campestre  \n",
       "...                                                 ...              ...  \n",
       "5621  [6.0, 44.0, 65.0, 39.0, 14.0, 11.0, 7.0, 6.0, ...  zelkova_serrata  \n",
       "5622  [2.0, 8.0, 17.0, 30.0, 30.0, 33.0, 35.0, 15.0,...  zelkova_serrata  \n",
       "5623  [8.0, 41.0, 35.0, 31.0, 20.0, 23.0, 19.0, 6.0,...  zelkova_serrata  \n",
       "5624  [1.0, 27.0, 50.0, 54.0, 28.0, 21.0, 17.0, 5.0,...  zelkova_serrata  \n",
       "5625  [4.0, 14.0, 21.0, 24.0, 36.0, 31.0, 17.0, 19.0...  zelkova_serrata  \n",
       "\n",
       "[5626 rows x 3 columns]"
      ]
     },
     "execution_count": 160,
     "metadata": {},
     "output_type": "execute_result"
    }
   ],
   "source": [
    "field_copy"
   ]
  },
  {
   "cell_type": "code",
   "execution_count": 184,
   "metadata": {},
   "outputs": [],
   "source": [
    "field_copy_df_train_arr = pd.DataFrame(columns = ['area_hist_values', 'int_hist_values', 'plant'])\n",
    "field_copy_df_test_arr = pd.DataFrame(columns = ['area_hist_values', 'int_hist_values', 'plant'])"
   ]
  },
  {
   "cell_type": "code",
   "execution_count": 186,
   "metadata": {},
   "outputs": [
    {
     "ename": "ValueError",
     "evalue": "Found input variables with inconsistent numbers of samples: [2, 5626]",
     "output_type": "error",
     "traceback": [
      "\u001b[1;31m---------------------------------------------------------------------------\u001b[0m",
      "\u001b[1;31mValueError\u001b[0m                                Traceback (most recent call last)",
      "\u001b[1;32m~\\AppData\\Local\\Temp\\ipykernel_25488\\2655031707.py\u001b[0m in \u001b[0;36m<module>\u001b[1;34m\u001b[0m\n\u001b[0;32m     12\u001b[0m         \u001b[0mplant_dictionary\u001b[0m\u001b[1;33m[\u001b[0m\u001b[1;34m'plant'\u001b[0m\u001b[1;33m]\u001b[0m\u001b[1;33m.\u001b[0m\u001b[0mappend\u001b[0m\u001b[1;33m(\u001b[0m\u001b[0mfield_copy\u001b[0m\u001b[1;33m[\u001b[0m\u001b[1;34m'plant'\u001b[0m\u001b[1;33m]\u001b[0m\u001b[1;33m[\u001b[0m\u001b[0mindex\u001b[0m\u001b[1;33m]\u001b[0m\u001b[1;33m)\u001b[0m\u001b[1;33m\u001b[0m\u001b[1;33m\u001b[0m\u001b[0m\n\u001b[0;32m     13\u001b[0m \u001b[1;33m\u001b[0m\u001b[0m\n\u001b[1;32m---> 14\u001b[1;33m     \u001b[0mX_train\u001b[0m\u001b[1;33m,\u001b[0m \u001b[0mX_test\u001b[0m\u001b[1;33m,\u001b[0m \u001b[0my_train\u001b[0m\u001b[1;33m,\u001b[0m \u001b[0my_test\u001b[0m \u001b[1;33m=\u001b[0m \u001b[0mtrain_test_split\u001b[0m\u001b[1;33m(\u001b[0m\u001b[1;33m[\u001b[0m\u001b[0mplant_dictionary\u001b[0m\u001b[1;33m[\u001b[0m\u001b[1;34m'area_hist_values'\u001b[0m\u001b[1;33m]\u001b[0m\u001b[1;33m,\u001b[0m \u001b[0mplant_dictionary\u001b[0m\u001b[1;33m[\u001b[0m\u001b[1;34m'int_hist_values'\u001b[0m\u001b[1;33m]\u001b[0m\u001b[1;33m]\u001b[0m\u001b[1;33m,\u001b[0m \u001b[0mplant_dictionary\u001b[0m\u001b[1;33m[\u001b[0m\u001b[1;34m'plant'\u001b[0m\u001b[1;33m]\u001b[0m\u001b[1;33m,\u001b[0m \u001b[0mtest_size\u001b[0m\u001b[1;33m=\u001b[0m\u001b[1;36m0.2\u001b[0m\u001b[1;33m,\u001b[0m \u001b[0mrandom_state\u001b[0m\u001b[1;33m=\u001b[0m\u001b[1;36m42\u001b[0m\u001b[1;33m)\u001b[0m\u001b[1;33m\u001b[0m\u001b[1;33m\u001b[0m\u001b[0m\n\u001b[0m\u001b[0;32m     15\u001b[0m \u001b[1;33m\u001b[0m\u001b[0m\n\u001b[0;32m     16\u001b[0m     \u001b[0mfield_copy_df_train_arr\u001b[0m\u001b[1;33m[\u001b[0m\u001b[1;34m'hist_values'\u001b[0m\u001b[1;33m]\u001b[0m \u001b[1;33m=\u001b[0m \u001b[0mX_train\u001b[0m\u001b[1;33m\u001b[0m\u001b[1;33m\u001b[0m\u001b[0m\n",
      "\u001b[1;32md:\\anaconda3\\envs\\tf2.4\\lib\\site-packages\\sklearn\\model_selection\\_split.py\u001b[0m in \u001b[0;36mtrain_test_split\u001b[1;34m(test_size, train_size, random_state, shuffle, stratify, *arrays)\u001b[0m\n\u001b[0;32m   2557\u001b[0m         \u001b[1;32mraise\u001b[0m \u001b[0mValueError\u001b[0m\u001b[1;33m(\u001b[0m\u001b[1;34m\"At least one array required as input\"\u001b[0m\u001b[1;33m)\u001b[0m\u001b[1;33m\u001b[0m\u001b[1;33m\u001b[0m\u001b[0m\n\u001b[0;32m   2558\u001b[0m \u001b[1;33m\u001b[0m\u001b[0m\n\u001b[1;32m-> 2559\u001b[1;33m     \u001b[0marrays\u001b[0m \u001b[1;33m=\u001b[0m \u001b[0mindexable\u001b[0m\u001b[1;33m(\u001b[0m\u001b[1;33m*\u001b[0m\u001b[0marrays\u001b[0m\u001b[1;33m)\u001b[0m\u001b[1;33m\u001b[0m\u001b[1;33m\u001b[0m\u001b[0m\n\u001b[0m\u001b[0;32m   2560\u001b[0m \u001b[1;33m\u001b[0m\u001b[0m\n\u001b[0;32m   2561\u001b[0m     \u001b[0mn_samples\u001b[0m \u001b[1;33m=\u001b[0m \u001b[0m_num_samples\u001b[0m\u001b[1;33m(\u001b[0m\u001b[0marrays\u001b[0m\u001b[1;33m[\u001b[0m\u001b[1;36m0\u001b[0m\u001b[1;33m]\u001b[0m\u001b[1;33m)\u001b[0m\u001b[1;33m\u001b[0m\u001b[1;33m\u001b[0m\u001b[0m\n",
      "\u001b[1;32md:\\anaconda3\\envs\\tf2.4\\lib\\site-packages\\sklearn\\utils\\validation.py\u001b[0m in \u001b[0;36mindexable\u001b[1;34m(*iterables)\u001b[0m\n\u001b[0;32m    441\u001b[0m \u001b[1;33m\u001b[0m\u001b[0m\n\u001b[0;32m    442\u001b[0m     \u001b[0mresult\u001b[0m \u001b[1;33m=\u001b[0m \u001b[1;33m[\u001b[0m\u001b[0m_make_indexable\u001b[0m\u001b[1;33m(\u001b[0m\u001b[0mX\u001b[0m\u001b[1;33m)\u001b[0m \u001b[1;32mfor\u001b[0m \u001b[0mX\u001b[0m \u001b[1;32min\u001b[0m \u001b[0miterables\u001b[0m\u001b[1;33m]\u001b[0m\u001b[1;33m\u001b[0m\u001b[1;33m\u001b[0m\u001b[0m\n\u001b[1;32m--> 443\u001b[1;33m     \u001b[0mcheck_consistent_length\u001b[0m\u001b[1;33m(\u001b[0m\u001b[1;33m*\u001b[0m\u001b[0mresult\u001b[0m\u001b[1;33m)\u001b[0m\u001b[1;33m\u001b[0m\u001b[1;33m\u001b[0m\u001b[0m\n\u001b[0m\u001b[0;32m    444\u001b[0m     \u001b[1;32mreturn\u001b[0m \u001b[0mresult\u001b[0m\u001b[1;33m\u001b[0m\u001b[1;33m\u001b[0m\u001b[0m\n\u001b[0;32m    445\u001b[0m \u001b[1;33m\u001b[0m\u001b[0m\n",
      "\u001b[1;32md:\\anaconda3\\envs\\tf2.4\\lib\\site-packages\\sklearn\\utils\\validation.py\u001b[0m in \u001b[0;36mcheck_consistent_length\u001b[1;34m(*arrays)\u001b[0m\n\u001b[0;32m    395\u001b[0m     \u001b[0muniques\u001b[0m \u001b[1;33m=\u001b[0m \u001b[0mnp\u001b[0m\u001b[1;33m.\u001b[0m\u001b[0munique\u001b[0m\u001b[1;33m(\u001b[0m\u001b[0mlengths\u001b[0m\u001b[1;33m)\u001b[0m\u001b[1;33m\u001b[0m\u001b[1;33m\u001b[0m\u001b[0m\n\u001b[0;32m    396\u001b[0m     \u001b[1;32mif\u001b[0m \u001b[0mlen\u001b[0m\u001b[1;33m(\u001b[0m\u001b[0muniques\u001b[0m\u001b[1;33m)\u001b[0m \u001b[1;33m>\u001b[0m \u001b[1;36m1\u001b[0m\u001b[1;33m:\u001b[0m\u001b[1;33m\u001b[0m\u001b[1;33m\u001b[0m\u001b[0m\n\u001b[1;32m--> 397\u001b[1;33m         raise ValueError(\n\u001b[0m\u001b[0;32m    398\u001b[0m             \u001b[1;34m\"Found input variables with inconsistent numbers of samples: %r\"\u001b[0m\u001b[1;33m\u001b[0m\u001b[1;33m\u001b[0m\u001b[0m\n\u001b[0;32m    399\u001b[0m             \u001b[1;33m%\u001b[0m \u001b[1;33m[\u001b[0m\u001b[0mint\u001b[0m\u001b[1;33m(\u001b[0m\u001b[0ml\u001b[0m\u001b[1;33m)\u001b[0m \u001b[1;32mfor\u001b[0m \u001b[0ml\u001b[0m \u001b[1;32min\u001b[0m \u001b[0mlengths\u001b[0m\u001b[1;33m]\u001b[0m\u001b[1;33m\u001b[0m\u001b[1;33m\u001b[0m\u001b[0m\n",
      "\u001b[1;31mValueError\u001b[0m: Found input variables with inconsistent numbers of samples: [2, 5626]"
     ]
    }
   ],
   "source": [
    "# from sympy.abc import y\n",
    "from sklearn.model_selection import train_test_split\n",
    "\n",
    "for count,value in enumerate(field_copy['plant'].unique()):\n",
    "    # will contain the current plant data\n",
    "    plant_dictionary = {'area_hist_values': [], 'int_hist_values':[], 'plant':[]}\n",
    "\n",
    "    for index,col in field_copy.iterrows():\n",
    "        # if area_field_copy['plant'][index] == plant:\n",
    "        plant_dictionary['area_hist_values'].append(field_copy['area_hist_values'][index])\n",
    "        plant_dictionary['int_hist_values'].append(field_copy['int_hist_values'][index])\n",
    "        plant_dictionary['plant'].append(field_copy['plant'][index])\n",
    "    \n",
    "    X_train, X_test, y_train, y_test = train_test_split([plant_dictionary['area_hist_values'], plant_dictionary['int_hist_values']], plant_dictionary['plant'], test_size=0.2, random_state=42)\n",
    "\n",
    "    field_copy_df_train_arr['hist_values'] = X_train\n",
    "    field_copy_df_train_arr['plant'] = y_train\n",
    "\n",
    "    field_copy_df_test_arr['hist_values'] = X_test\n",
    "    field_copy_df_test_arr['plant'] = y_test "
   ]
  },
  {
   "cell_type": "code",
   "execution_count": null,
   "metadata": {},
   "outputs": [],
   "source": [
    "for field in field_copy_df_test_arr['plant'].unique():\n",
    "    if field in field_copy_df_train_arr['plant'].unique():\n",
    "        print(f\"{field} is present in train data\")\n",
    "    else:\n",
    "        print(f\"{field} is not present in train data\")"
   ]
  },
  {
   "cell_type": "code",
   "execution_count": null,
   "metadata": {},
   "outputs": [],
   "source": [
    "area_field_copy_df_train_arr.to_csv('../csv/hocs/field_train_test/area_field_df_train.csv', index=False)\n",
    "area_field_copy_df_test_arr.to_csv('../csv/hocs/field_train_test/area_field_df_test.csv', index=False)"
   ]
  },
  {
   "cell_type": "code",
   "execution_count": 162,
   "metadata": {},
   "outputs": [],
   "source": [
    "from sklearn.neighbors import KNeighborsClassifier\n",
    "from sklearn.model_selection import train_test_split\n",
    "from sklearn.metrics import accuracy_score\n",
    "from sklearn.preprocessing import StandardScaler\n",
    "from sklearn.neighbors import NearestNeighbors\n",
    "\n",
    "import pandas as pd\n",
    "import numpy as np"
   ]
  },
  {
   "cell_type": "code",
   "execution_count": null,
   "metadata": {},
   "outputs": [],
   "source": [
    "from sklearn.neighbors import KNeighborsClassifier\n",
    "from sklearn.metrics import classification_report"
   ]
  },
  {
   "attachments": {},
   "cell_type": "markdown",
   "metadata": {},
   "source": [
    "# Area"
   ]
  },
  {
   "cell_type": "code",
   "execution_count": 174,
   "metadata": {},
   "outputs": [],
   "source": [
    "field_features = [d for d in field_copy['area_hist_values']]\n",
    "labels = field_copy['plant']"
   ]
  },
  {
   "cell_type": "code",
   "execution_count": 176,
   "metadata": {},
   "outputs": [],
   "source": [
    "# Initialize the nearest neighbors model\n",
    "nn_model = NearestNeighbors(n_neighbors=20, algorithm='brute', metric='cosine')\n",
    "\n",
    "# Loop through each field image and evaluate recognition performance\n",
    "species_match_ranks = []\n",
    "for i in range(len(field_features)):\n",
    "    # Use the i-th field image as query, and remove it from the field features array\n",
    "    query = field_features[i]\n",
    "    field_features_minus_query = np.delete(field_features, i, axis=0)\n",
    "\n",
    "    # Train the nearest neighbors model on the remaining field images\n",
    "    nn_model.fit(field_features_minus_query)\n",
    "\n",
    "    query = np.array(query)\n",
    "    # Find the nearest neighbors and their labels for the query image\n",
    "    distances, indices = nn_model.kneighbors(query.reshape(1, -1))\n",
    "\n",
    "    # Evaluate the rank of the correct species match for the query image\n",
    "    correct_species = labels[i]\n",
    "    species_neighbors = labels[indices.flatten()]\n",
    "\n",
    "    if (len(np.where(species_neighbors == correct_species)[0])) != 0:\n",
    "        correct_species_rank = np.where(species_neighbors == correct_species)[0][0] + 1  # add 1 to convert to rank\n",
    "    # print(correct_species_rank)\n",
    "\n",
    "    species_match_ranks.append(correct_species_rank)"
   ]
  },
  {
   "cell_type": "code",
   "execution_count": 177,
   "metadata": {},
   "outputs": [],
   "source": [
    "# Calculate the recognition rate as a function of the maximum species match rank\n",
    "recognition_rates = []\n",
    "for i in range(1, 26):\n",
    "    recognition_rate = sum([1 for rank in species_match_ranks if rank <= i]) / len(species_match_ranks)\n",
    "    recognition_rates.append(recognition_rate)"
   ]
  },
  {
   "cell_type": "code",
   "execution_count": 179,
   "metadata": {},
   "outputs": [
    {
     "data": {
      "text/plain": [
       "[0.43778883753999287,\n",
       " 0.5638108780661216,\n",
       " 0.6509065055101315,\n",
       " 0.6974760042659083,\n",
       " 0.7412015641663704,\n",
       " 0.7724848915748311,\n",
       " 0.8023462495556346,\n",
       " 0.8307856381087807,\n",
       " 0.8519374333451831,\n",
       " 0.8753999289015286,\n",
       " 0.8929968005687877,\n",
       " 0.9104159260575898,\n",
       " 0.92481336651262,\n",
       " 0.9358336295769641,\n",
       " 0.9475648773551368,\n",
       " 0.9582296480625666,\n",
       " 0.9687166725915393,\n",
       " 0.9790259509420548,\n",
       " 0.9900462140063989,\n",
       " 1.0,\n",
       " 1.0,\n",
       " 1.0,\n",
       " 1.0,\n",
       " 1.0,\n",
       " 1.0]"
      ]
     },
     "execution_count": 179,
     "metadata": {},
     "output_type": "execute_result"
    }
   ],
   "source": [
    "recognition_rates"
   ]
  },
  {
   "attachments": {},
   "cell_type": "markdown",
   "metadata": {},
   "source": [
    "# Int"
   ]
  },
  {
   "cell_type": "code",
   "execution_count": 58,
   "metadata": {},
   "outputs": [],
   "source": [
    "field_features_2 = [ast.literal_eval(d) for d in field_copy['int_hist_values']]\n",
    "labels_2 = field_copy['plant']"
   ]
  },
  {
   "cell_type": "code",
   "execution_count": 59,
   "metadata": {},
   "outputs": [
    {
     "data": {
      "text/html": [
       "<style>#sk-container-id-4 {color: black;background-color: white;}#sk-container-id-4 pre{padding: 0;}#sk-container-id-4 div.sk-toggleable {background-color: white;}#sk-container-id-4 label.sk-toggleable__label {cursor: pointer;display: block;width: 100%;margin-bottom: 0;padding: 0.3em;box-sizing: border-box;text-align: center;}#sk-container-id-4 label.sk-toggleable__label-arrow:before {content: \"▸\";float: left;margin-right: 0.25em;color: #696969;}#sk-container-id-4 label.sk-toggleable__label-arrow:hover:before {color: black;}#sk-container-id-4 div.sk-estimator:hover label.sk-toggleable__label-arrow:before {color: black;}#sk-container-id-4 div.sk-toggleable__content {max-height: 0;max-width: 0;overflow: hidden;text-align: left;background-color: #f0f8ff;}#sk-container-id-4 div.sk-toggleable__content pre {margin: 0.2em;color: black;border-radius: 0.25em;background-color: #f0f8ff;}#sk-container-id-4 input.sk-toggleable__control:checked~div.sk-toggleable__content {max-height: 200px;max-width: 100%;overflow: auto;}#sk-container-id-4 input.sk-toggleable__control:checked~label.sk-toggleable__label-arrow:before {content: \"▾\";}#sk-container-id-4 div.sk-estimator input.sk-toggleable__control:checked~label.sk-toggleable__label {background-color: #d4ebff;}#sk-container-id-4 div.sk-label input.sk-toggleable__control:checked~label.sk-toggleable__label {background-color: #d4ebff;}#sk-container-id-4 input.sk-hidden--visually {border: 0;clip: rect(1px 1px 1px 1px);clip: rect(1px, 1px, 1px, 1px);height: 1px;margin: -1px;overflow: hidden;padding: 0;position: absolute;width: 1px;}#sk-container-id-4 div.sk-estimator {font-family: monospace;background-color: #f0f8ff;border: 1px dotted black;border-radius: 0.25em;box-sizing: border-box;margin-bottom: 0.5em;}#sk-container-id-4 div.sk-estimator:hover {background-color: #d4ebff;}#sk-container-id-4 div.sk-parallel-item::after {content: \"\";width: 100%;border-bottom: 1px solid gray;flex-grow: 1;}#sk-container-id-4 div.sk-label:hover label.sk-toggleable__label {background-color: #d4ebff;}#sk-container-id-4 div.sk-serial::before {content: \"\";position: absolute;border-left: 1px solid gray;box-sizing: border-box;top: 0;bottom: 0;left: 50%;z-index: 0;}#sk-container-id-4 div.sk-serial {display: flex;flex-direction: column;align-items: center;background-color: white;padding-right: 0.2em;padding-left: 0.2em;position: relative;}#sk-container-id-4 div.sk-item {position: relative;z-index: 1;}#sk-container-id-4 div.sk-parallel {display: flex;align-items: stretch;justify-content: center;background-color: white;position: relative;}#sk-container-id-4 div.sk-item::before, #sk-container-id-4 div.sk-parallel-item::before {content: \"\";position: absolute;border-left: 1px solid gray;box-sizing: border-box;top: 0;bottom: 0;left: 50%;z-index: -1;}#sk-container-id-4 div.sk-parallel-item {display: flex;flex-direction: column;z-index: 1;position: relative;background-color: white;}#sk-container-id-4 div.sk-parallel-item:first-child::after {align-self: flex-end;width: 50%;}#sk-container-id-4 div.sk-parallel-item:last-child::after {align-self: flex-start;width: 50%;}#sk-container-id-4 div.sk-parallel-item:only-child::after {width: 0;}#sk-container-id-4 div.sk-dashed-wrapped {border: 1px dashed gray;margin: 0 0.4em 0.5em 0.4em;box-sizing: border-box;padding-bottom: 0.4em;background-color: white;}#sk-container-id-4 div.sk-label label {font-family: monospace;font-weight: bold;display: inline-block;line-height: 1.2em;}#sk-container-id-4 div.sk-label-container {text-align: center;}#sk-container-id-4 div.sk-container {/* jupyter's `normalize.less` sets `[hidden] { display: none; }` but bootstrap.min.css set `[hidden] { display: none !important; }` so we also need the `!important` here to be able to override the default hidden behavior on the sphinx rendered scikit-learn.org. See: https://github.com/scikit-learn/scikit-learn/issues/21755 */display: inline-block !important;position: relative;}#sk-container-id-4 div.sk-text-repr-fallback {display: none;}</style><div id=\"sk-container-id-4\" class=\"sk-top-container\"><div class=\"sk-text-repr-fallback\"><pre>NearestNeighbors(n_neighbors=25)</pre><b>In a Jupyter environment, please rerun this cell to show the HTML representation or trust the notebook. <br />On GitHub, the HTML representation is unable to render, please try loading this page with nbviewer.org.</b></div><div class=\"sk-container\" hidden><div class=\"sk-item\"><div class=\"sk-estimator sk-toggleable\"><input class=\"sk-toggleable__control sk-hidden--visually\" id=\"sk-estimator-id-4\" type=\"checkbox\" checked><label for=\"sk-estimator-id-4\" class=\"sk-toggleable__label sk-toggleable__label-arrow\">NearestNeighbors</label><div class=\"sk-toggleable__content\"><pre>NearestNeighbors(n_neighbors=25)</pre></div></div></div></div></div>"
      ],
      "text/plain": [
       "NearestNeighbors(n_neighbors=25)"
      ]
     },
     "execution_count": 59,
     "metadata": {},
     "output_type": "execute_result"
    }
   ],
   "source": [
    "# Create a nearest neighbors object with n_neighbors set to 25\n",
    "nbrs_2 = NearestNeighbors(n_neighbors=25, algorithm='auto').fit(x_area)\n",
    "nbrs_2"
   ]
  },
  {
   "cell_type": "code",
   "execution_count": 60,
   "metadata": {},
   "outputs": [],
   "source": [
    "# Initialize the nearest neighbors model\n",
    "nn_model_2 = NearestNeighbors(n_neighbors=20, algorithm='brute', metric='cosine')\n",
    "\n",
    "# Loop through each field image and evaluate recognition performance\n",
    "species_match_ranks_2 = []\n",
    "for i in range(len(field_features_2)):\n",
    "    # Use the i-th field image as query, and remove it from the field features array\n",
    "    query = field_features_2[i]\n",
    "    field_features_minus_query = np.delete(field_features_2, i, axis=0)\n",
    "\n",
    "    # Train the nearest neighbors model on the remaining field images\n",
    "    nn_model_2.fit(field_features_minus_query)\n",
    "\n",
    "    query = np.array(query)\n",
    "    # Find the nearest neighbors and their labels for the query image\n",
    "    distances, indices = nn_model_2.kneighbors(query.reshape(1, -1))\n",
    "\n",
    "    # Evaluate the rank of the correct species match for the query image\n",
    "    correct_species = labels_2[i]\n",
    "    species_neighbors = labels_2[indices.flatten()]\n",
    "\n",
    "    if (len(np.where(species_neighbors == correct_species)[0])) != 0:\n",
    "        correct_species_rank = np.where(species_neighbors == correct_species)[0][0] + 1  # add 1 to convert to rank\n",
    "    # print(correct_species_rank)\n",
    "\n",
    "    species_match_ranks_2.append(correct_species_rank)"
   ]
  },
  {
   "cell_type": "code",
   "execution_count": 61,
   "metadata": {},
   "outputs": [],
   "source": [
    "# Calculate the recognition rate as a function of the maximum species match rank\n",
    "recognition_rates_2 = []\n",
    "for i in range(1, 26):\n",
    "    recognition_rate = sum([1 for rank in species_match_ranks_2 if rank <= i]) / len(species_match_ranks_2)\n",
    "    recognition_rates_2.append(recognition_rate)"
   ]
  },
  {
   "cell_type": "code",
   "execution_count": 63,
   "metadata": {},
   "outputs": [
    {
     "data": {
      "text/plain": [
       "[0.18676258992805755,\n",
       " 0.27136690647482015,\n",
       " 0.3368345323741007,\n",
       " 0.3890647482014388,\n",
       " 0.45136690647482014,\n",
       " 0.5001438848920863,\n",
       " 0.5361151079136691,\n",
       " 0.5765467625899281,\n",
       " 0.6103597122302158,\n",
       " 0.6565467625899281,\n",
       " 0.696978417266187,\n",
       " 0.7323741007194244,\n",
       " 0.7712230215827338,\n",
       " 0.8067625899280576,\n",
       " 0.8427338129496403,\n",
       " 0.8805755395683453,\n",
       " 0.9151079136690647,\n",
       " 0.9437410071942446,\n",
       " 0.9736690647482015,\n",
       " 1.0,\n",
       " 1.0,\n",
       " 1.0,\n",
       " 1.0,\n",
       " 1.0,\n",
       " 1.0]"
      ]
     },
     "execution_count": 63,
     "metadata": {},
     "output_type": "execute_result"
    }
   ],
   "source": [
    "recognition_rates_2"
   ]
  },
  {
   "cell_type": "code",
   "execution_count": 94,
   "metadata": {},
   "outputs": [
    {
     "name": "stdout",
     "output_type": "stream",
     "text": [
      "Index 0: 13.93%\n",
      "Index 1: 15.69%\n",
      "Index 2: 16.36%\n",
      "Index 3: 14.05%\n",
      "Index 4: 12.47%\n",
      "Index 5: 11.46%\n",
      "Index 6: 12.02%\n",
      "Index 7: 10.16%\n",
      "Index 8: 9.73%\n",
      "Index 9: 7.35%\n",
      "Index 10: 6.31%\n",
      "Index 11: 5.91%\n",
      "Index 12: 4.90%\n",
      "Index 13: 4.27%\n",
      "Index 14: 2.80%\n",
      "Index 15: 1.50%\n",
      "Index 16: 0.93%\n",
      "Index 17: 0.58%\n",
      "Index 18: 0.31%\n",
      "Index 19: 0.00%\n",
      "Index 20: 0.00%\n",
      "Index 21: 0.00%\n",
      "Index 22: 0.00%\n",
      "Index 23: 0.00%\n",
      "Index 24: 0.00%\n"
     ]
    }
   ],
   "source": [
    "for i in range(len(recognition_rates_2)):\n",
    "    diff = abs(recognition_rates_2[i] - recognition_rates_3[i])\n",
    "    pct_diff = (diff / recognition_rates_3[i]) * 100\n",
    "    print(f\"Index {i}: {pct_diff:.2f}%\")"
   ]
  },
  {
   "cell_type": "code",
   "execution_count": null,
   "metadata": {},
   "outputs": [],
   "source": [
    "import matplotlib.pyplot as plt\n",
    "\n",
    "# Plot the lists on the same plot\n",
    "plt.plot(recognition_rates, label='Area', marker='o')\n",
    "\n",
    "# Set the axis labels and legend\n",
    "plt.xlabel('Maximum Species Match Index')\n",
    "plt.ylabel('%')\n",
    "plt.legend()\n",
    "\n",
    "# Show the plot\n",
    "plt.show()"
   ]
  },
  {
   "cell_type": "code",
   "execution_count": 70,
   "metadata": {},
   "outputs": [
    {
     "data": {
      "image/png": "[encoded data removed]",
      "text/plain": [
       "<Figure size 640x480 with 1 Axes>"
      ]
     },
     "metadata": {},
     "output_type": "display_data"
    }
   ],
   "source": [
    "import matplotlib.pyplot as plt\n",
    "\n",
    "# Plot the lists on the same plot\n",
    "plt.plot(recognition_rates, label='Area', marker='o')\n",
    "plt.plot(recognition_rates_2, label='Integral', marker='o')\n",
    "\n",
    "# Set the axis labels and legend\n",
    "plt.xlabel('Maximum Species Match Index')\n",
    "plt.ylabel('%')\n",
    "plt.legend()\n",
    "\n",
    "# Show the plot\n",
    "plt.show()"
   ]
  },
  {
   "cell_type": "code",
   "execution_count": 79,
   "metadata": {},
   "outputs": [],
   "source": [
    "field_features_3 = np.column_stack((field_features, field_features_2))\n",
    "labels_3 = labels"
   ]
  },
  {
   "cell_type": "code",
   "execution_count": 77,
   "metadata": {},
   "outputs": [
    {
     "data": {
      "text/html": [
       "<style>#sk-container-id-6 {color: black;background-color: white;}#sk-container-id-6 pre{padding: 0;}#sk-container-id-6 div.sk-toggleable {background-color: white;}#sk-container-id-6 label.sk-toggleable__label {cursor: pointer;display: block;width: 100%;margin-bottom: 0;padding: 0.3em;box-sizing: border-box;text-align: center;}#sk-container-id-6 label.sk-toggleable__label-arrow:before {content: \"▸\";float: left;margin-right: 0.25em;color: #696969;}#sk-container-id-6 label.sk-toggleable__label-arrow:hover:before {color: black;}#sk-container-id-6 div.sk-estimator:hover label.sk-toggleable__label-arrow:before {color: black;}#sk-container-id-6 div.sk-toggleable__content {max-height: 0;max-width: 0;overflow: hidden;text-align: left;background-color: #f0f8ff;}#sk-container-id-6 div.sk-toggleable__content pre {margin: 0.2em;color: black;border-radius: 0.25em;background-color: #f0f8ff;}#sk-container-id-6 input.sk-toggleable__control:checked~div.sk-toggleable__content {max-height: 200px;max-width: 100%;overflow: auto;}#sk-container-id-6 input.sk-toggleable__control:checked~label.sk-toggleable__label-arrow:before {content: \"▾\";}#sk-container-id-6 div.sk-estimator input.sk-toggleable__control:checked~label.sk-toggleable__label {background-color: #d4ebff;}#sk-container-id-6 div.sk-label input.sk-toggleable__control:checked~label.sk-toggleable__label {background-color: #d4ebff;}#sk-container-id-6 input.sk-hidden--visually {border: 0;clip: rect(1px 1px 1px 1px);clip: rect(1px, 1px, 1px, 1px);height: 1px;margin: -1px;overflow: hidden;padding: 0;position: absolute;width: 1px;}#sk-container-id-6 div.sk-estimator {font-family: monospace;background-color: #f0f8ff;border: 1px dotted black;border-radius: 0.25em;box-sizing: border-box;margin-bottom: 0.5em;}#sk-container-id-6 div.sk-estimator:hover {background-color: #d4ebff;}#sk-container-id-6 div.sk-parallel-item::after {content: \"\";width: 100%;border-bottom: 1px solid gray;flex-grow: 1;}#sk-container-id-6 div.sk-label:hover label.sk-toggleable__label {background-color: #d4ebff;}#sk-container-id-6 div.sk-serial::before {content: \"\";position: absolute;border-left: 1px solid gray;box-sizing: border-box;top: 0;bottom: 0;left: 50%;z-index: 0;}#sk-container-id-6 div.sk-serial {display: flex;flex-direction: column;align-items: center;background-color: white;padding-right: 0.2em;padding-left: 0.2em;position: relative;}#sk-container-id-6 div.sk-item {position: relative;z-index: 1;}#sk-container-id-6 div.sk-parallel {display: flex;align-items: stretch;justify-content: center;background-color: white;position: relative;}#sk-container-id-6 div.sk-item::before, #sk-container-id-6 div.sk-parallel-item::before {content: \"\";position: absolute;border-left: 1px solid gray;box-sizing: border-box;top: 0;bottom: 0;left: 50%;z-index: -1;}#sk-container-id-6 div.sk-parallel-item {display: flex;flex-direction: column;z-index: 1;position: relative;background-color: white;}#sk-container-id-6 div.sk-parallel-item:first-child::after {align-self: flex-end;width: 50%;}#sk-container-id-6 div.sk-parallel-item:last-child::after {align-self: flex-start;width: 50%;}#sk-container-id-6 div.sk-parallel-item:only-child::after {width: 0;}#sk-container-id-6 div.sk-dashed-wrapped {border: 1px dashed gray;margin: 0 0.4em 0.5em 0.4em;box-sizing: border-box;padding-bottom: 0.4em;background-color: white;}#sk-container-id-6 div.sk-label label {font-family: monospace;font-weight: bold;display: inline-block;line-height: 1.2em;}#sk-container-id-6 div.sk-label-container {text-align: center;}#sk-container-id-6 div.sk-container {/* jupyter's `normalize.less` sets `[hidden] { display: none; }` but bootstrap.min.css set `[hidden] { display: none !important; }` so we also need the `!important` here to be able to override the default hidden behavior on the sphinx rendered scikit-learn.org. See: https://github.com/scikit-learn/scikit-learn/issues/21755 */display: inline-block !important;position: relative;}#sk-container-id-6 div.sk-text-repr-fallback {display: none;}</style><div id=\"sk-container-id-6\" class=\"sk-top-container\"><div class=\"sk-text-repr-fallback\"><pre>NearestNeighbors(n_neighbors=25)</pre><b>In a Jupyter environment, please rerun this cell to show the HTML representation or trust the notebook. <br />On GitHub, the HTML representation is unable to render, please try loading this page with nbviewer.org.</b></div><div class=\"sk-container\" hidden><div class=\"sk-item\"><div class=\"sk-estimator sk-toggleable\"><input class=\"sk-toggleable__control sk-hidden--visually\" id=\"sk-estimator-id-6\" type=\"checkbox\" checked><label for=\"sk-estimator-id-6\" class=\"sk-toggleable__label sk-toggleable__label-arrow\">NearestNeighbors</label><div class=\"sk-toggleable__content\"><pre>NearestNeighbors(n_neighbors=25)</pre></div></div></div></div></div>"
      ],
      "text/plain": [
       "NearestNeighbors(n_neighbors=25)"
      ]
     },
     "execution_count": 77,
     "metadata": {},
     "output_type": "execute_result"
    }
   ],
   "source": [
    "# Create a nearest neighbors object with n_neighbors set to 25\n",
    "nbrs_3 = NearestNeighbors(n_neighbors=25, algorithm='auto').fit(field_features_3)\n",
    "nbrs_3"
   ]
  },
  {
   "cell_type": "code",
   "execution_count": 80,
   "metadata": {},
   "outputs": [],
   "source": [
    "# Initialize the nearest neighbors model\n",
    "nn_model_3 = NearestNeighbors(n_neighbors=20, algorithm='brute', metric='cosine')\n",
    "\n",
    "# Loop through each field image and evaluate recognition performance\n",
    "species_match_ranks_3 = []\n",
    "for i in range(len(field_features_3)):\n",
    "    # Use the i-th field image as query, and remove it from the field features array\n",
    "    query = field_features_3[i]\n",
    "    field_features_minus_query = np.delete(field_features_3, i, axis=0)\n",
    "\n",
    "    # Train the nearest neighbors model on the remaining field images\n",
    "    nn_model_3.fit(field_features_minus_query)\n",
    "\n",
    "    query = np.array(query)\n",
    "    # Find the nearest neighbors and their labels for the query image\n",
    "    distances, indices = nn_model_3.kneighbors(query.reshape(1, -1))\n",
    "\n",
    "    # Evaluate the rank of the correct species match for the query image\n",
    "    correct_species = labels_3[i]\n",
    "    species_neighbors = labels_3[indices.flatten()]\n",
    "\n",
    "    if (len(np.where(species_neighbors == correct_species)[0])) != 0:\n",
    "        correct_species_rank = np.where(species_neighbors == correct_species)[0][0] + 1  # add 1 to convert to rank\n",
    "    # print(correct_species_rank)\n",
    "\n",
    "    species_match_ranks_3.append(correct_species_rank)"
   ]
  },
  {
   "cell_type": "code",
   "execution_count": 81,
   "metadata": {},
   "outputs": [],
   "source": [
    "# Calculate the recognition rate as a function of the maximum species match rank\n",
    "recognition_rates_3 = []\n",
    "for i in range(1, 26):\n",
    "    recognition_rate = sum([1 for rank in species_match_ranks_3 if rank <= i]) / len(species_match_ranks_3)\n",
    "    recognition_rates_3.append(recognition_rate)"
   ]
  },
  {
   "cell_type": "code",
   "execution_count": 82,
   "metadata": {},
   "outputs": [
    {
     "data": {
      "text/plain": [
       "[0.21697841726618705,\n",
       " 0.3218705035971223,\n",
       " 0.4027338129496403,\n",
       " 0.45266187050359713,\n",
       " 0.51568345323741,\n",
       " 0.5648920863309352,\n",
       " 0.6093525179856115,\n",
       " 0.641726618705036,\n",
       " 0.676115107913669,\n",
       " 0.7086330935251799,\n",
       " 0.7438848920863309,\n",
       " 0.7784172661870503,\n",
       " 0.8109352517985612,\n",
       " 0.8427338129496403,\n",
       " 0.8670503597122302,\n",
       " 0.8939568345323741,\n",
       " 0.9237410071942446,\n",
       " 0.9492086330935252,\n",
       " 0.9766906474820144,\n",
       " 1.0,\n",
       " 1.0,\n",
       " 1.0,\n",
       " 1.0,\n",
       " 1.0,\n",
       " 1.0]"
      ]
     },
     "execution_count": 82,
     "metadata": {},
     "output_type": "execute_result"
    }
   ],
   "source": [
    "recognition_rates_3"
   ]
  },
  {
   "cell_type": "code",
   "execution_count": 182,
   "metadata": {},
   "outputs": [],
   "source": [
    "i = [0.43778883753999287,\n",
    " 0.5638108780661216,\n",
    " 0.6509065055101315,\n",
    " 0.6974760042659083,\n",
    " 0.7412015641663704,\n",
    " 0.7724848915748311,\n",
    " 0.8023462495556346,\n",
    " 0.8307856381087807,\n",
    " 0.8519374333451831,\n",
    " 0.8753999289015286,\n",
    " 0.8929968005687877,\n",
    " 0.9104159260575898,\n",
    " 0.92481336651262,\n",
    " 0.9358336295769641,\n",
    " 0.9475648773551368,\n",
    " 0.9582296480625666,\n",
    " 0.9687166725915393,\n",
    " 0.9790259509420548,\n",
    " 0.9900462140063989,\n",
    " 1.0,\n",
    " 1.0,\n",
    " 1.0,\n",
    " 1.0,\n",
    " 1.0,\n",
    " 1.0]\n",
    "\n",
    "ii = [0.1805901173124778,\n",
    " 0.263597582651973,\n",
    " 0.35549235691432635,\n",
    " 0.41148240312833273,\n",
    " 0.4569854248133665,\n",
    " 0.4976892996800569,\n",
    " 0.545680767863491,\n",
    " 0.5998933522929257,\n",
    " 0.6436189121933878,\n",
    " 0.6813011020263064,\n",
    " 0.7204052612868823,\n",
    " 0.7587984358336296,\n",
    " 0.7877710629221472,\n",
    " 0.8355847849271241,\n",
    " 0.865979381443299,\n",
    " 0.9006398862424458,\n",
    " 0.9212584429434767,\n",
    " 0.9560966939210807,\n",
    " 0.9774262353359403,\n",
    " 1.0,\n",
    " 1.0,\n",
    " 1.0,\n",
    " 1.0,\n",
    " 1.0,\n",
    " 1.0]\n",
    "\n",
    "iii = [0.32278706007820834,\n",
    " 0.4459651617490224,\n",
    " 0.5396373977959474,\n",
    " 0.6029150373266975,\n",
    " 0.6612157838606469,\n",
    " 0.7003199431212229,\n",
    " 0.730892285815855,\n",
    " 0.7602204052612869,\n",
    " 0.7899040170636331,\n",
    " 0.819232136509065,\n",
    " 0.8450053323853537,\n",
    " 0.8686455741201564,\n",
    " 0.8963739779594738,\n",
    " 0.9145040881621045,\n",
    " 0.9353003910415926,\n",
    " 0.94987557767508,\n",
    " 0.9605403483825098,\n",
    " 0.9736935655883399,\n",
    " 0.9850693210095983,\n",
    " 1.0,\n",
    " 1.0,\n",
    " 1.0,\n",
    " 1.0,\n",
    " 1.0,\n",
    " 1.0]"
   ]
  },
  {
   "cell_type": "code",
   "execution_count": 183,
   "metadata": {},
   "outputs": [
    {
     "data": {
      "image/png": "[encoded data removed]",
      "text/plain": [
       "<Figure size 640x480 with 1 Axes>"
      ]
     },
     "metadata": {},
     "output_type": "display_data"
    }
   ],
   "source": [
    "import matplotlib.pyplot as plt\n",
    "\n",
    "# Plot the lists on the same plot\n",
    "plt.plot(i, label='Area', marker='o')\n",
    "plt.plot(ii, label='Integral', marker='o')\n",
    "plt.plot(iii, label='Combined', marker='o')\n",
    "\n",
    "# Set the axis labels and legend\n",
    "plt.xlabel('Maximum Species Match Index')\n",
    "plt.ylabel('%')\n",
    "plt.legend()\n",
    "\n",
    "# Show the plot\n",
    "plt.show()"
   ]
  },
  {
   "cell_type": "code",
   "execution_count": 88,
   "metadata": {},
   "outputs": [
    {
     "ename": "ValueError",
     "evalue": "too many values to unpack (expected 2)",
     "output_type": "error",
     "traceback": [
      "\u001b[1;31m---------------------------------------------------------------------------\u001b[0m",
      "\u001b[1;31mValueError\u001b[0m                                Traceback (most recent call last)",
      "\u001b[1;32m~\\AppData\\Local\\Temp\\ipykernel_25488\\3778100021.py\u001b[0m in \u001b[0;36m<module>\u001b[1;34m\u001b[0m\n\u001b[0;32m      3\u001b[0m \u001b[1;33m\u001b[0m\u001b[0m\n\u001b[0;32m      4\u001b[0m \u001b[1;31m# Calculate average difference per index\u001b[0m\u001b[1;33m\u001b[0m\u001b[1;33m\u001b[0m\u001b[1;33m\u001b[0m\u001b[0m\n\u001b[1;32m----> 5\u001b[1;33m \u001b[0mavg_diff_per_index\u001b[0m \u001b[1;33m=\u001b[0m \u001b[1;33m[\u001b[0m\u001b[1;33m(\u001b[0m\u001b[0msum\u001b[0m\u001b[1;33m(\u001b[0m\u001b[0mx\u001b[0m\u001b[1;33m)\u001b[0m\u001b[1;33m/\u001b[0m\u001b[0mlen\u001b[0m\u001b[1;33m(\u001b[0m\u001b[0mdiff_per_index\u001b[0m\u001b[1;33m)\u001b[0m\u001b[1;33m,\u001b[0m \u001b[0msum\u001b[0m\u001b[1;33m(\u001b[0m\u001b[0my\u001b[0m\u001b[1;33m)\u001b[0m\u001b[1;33m/\u001b[0m\u001b[0mlen\u001b[0m\u001b[1;33m(\u001b[0m\u001b[0mdiff_per_index\u001b[0m\u001b[1;33m)\u001b[0m\u001b[1;33m)\u001b[0m \u001b[1;32mfor\u001b[0m \u001b[0mx\u001b[0m\u001b[1;33m,\u001b[0m \u001b[0my\u001b[0m \u001b[1;32min\u001b[0m \u001b[0mzip\u001b[0m\u001b[1;33m(\u001b[0m\u001b[1;33m*\u001b[0m\u001b[0mdiff_per_index\u001b[0m\u001b[1;33m)\u001b[0m\u001b[1;33m]\u001b[0m\u001b[1;33m\u001b[0m\u001b[1;33m\u001b[0m\u001b[0m\n\u001b[0m\u001b[0;32m      6\u001b[0m \u001b[1;33m\u001b[0m\u001b[0m\n\u001b[0;32m      7\u001b[0m \u001b[1;31m# Calculate total difference\u001b[0m\u001b[1;33m\u001b[0m\u001b[1;33m\u001b[0m\u001b[1;33m\u001b[0m\u001b[0m\n",
      "\u001b[1;32m~\\AppData\\Local\\Temp\\ipykernel_25488\\3778100021.py\u001b[0m in \u001b[0;36m<listcomp>\u001b[1;34m(.0)\u001b[0m\n\u001b[0;32m      3\u001b[0m \u001b[1;33m\u001b[0m\u001b[0m\n\u001b[0;32m      4\u001b[0m \u001b[1;31m# Calculate average difference per index\u001b[0m\u001b[1;33m\u001b[0m\u001b[1;33m\u001b[0m\u001b[1;33m\u001b[0m\u001b[0m\n\u001b[1;32m----> 5\u001b[1;33m \u001b[0mavg_diff_per_index\u001b[0m \u001b[1;33m=\u001b[0m \u001b[1;33m[\u001b[0m\u001b[1;33m(\u001b[0m\u001b[0msum\u001b[0m\u001b[1;33m(\u001b[0m\u001b[0mx\u001b[0m\u001b[1;33m)\u001b[0m\u001b[1;33m/\u001b[0m\u001b[0mlen\u001b[0m\u001b[1;33m(\u001b[0m\u001b[0mdiff_per_index\u001b[0m\u001b[1;33m)\u001b[0m\u001b[1;33m,\u001b[0m \u001b[0msum\u001b[0m\u001b[1;33m(\u001b[0m\u001b[0my\u001b[0m\u001b[1;33m)\u001b[0m\u001b[1;33m/\u001b[0m\u001b[0mlen\u001b[0m\u001b[1;33m(\u001b[0m\u001b[0mdiff_per_index\u001b[0m\u001b[1;33m)\u001b[0m\u001b[1;33m)\u001b[0m \u001b[1;32mfor\u001b[0m \u001b[0mx\u001b[0m\u001b[1;33m,\u001b[0m \u001b[0my\u001b[0m \u001b[1;32min\u001b[0m \u001b[0mzip\u001b[0m\u001b[1;33m(\u001b[0m\u001b[1;33m*\u001b[0m\u001b[0mdiff_per_index\u001b[0m\u001b[1;33m)\u001b[0m\u001b[1;33m]\u001b[0m\u001b[1;33m\u001b[0m\u001b[1;33m\u001b[0m\u001b[0m\n\u001b[0m\u001b[0;32m      6\u001b[0m \u001b[1;33m\u001b[0m\u001b[0m\n\u001b[0;32m      7\u001b[0m \u001b[1;31m# Calculate total difference\u001b[0m\u001b[1;33m\u001b[0m\u001b[1;33m\u001b[0m\u001b[1;33m\u001b[0m\u001b[0m\n",
      "\u001b[1;31mValueError\u001b[0m: too many values to unpack (expected 2)"
     ]
    }
   ],
   "source": [
    "# Calculate differences per index\n",
    "diff_per_index = [(y-x, z-y) for x, y, z in zip(recognition_rates, recognition_rates_2, recognition_rates_3)]\n",
    "\n",
    "# Calculate average difference per index\n",
    "avg_diff_per_index = [(sum(x)/len(diff_per_index), sum(y)/len(diff_per_index)) for x, y in zip(*diff_per_index)]\n",
    "\n",
    "# Calculate total difference\n",
    "total_diff = (sum(list2) - sum(list1)) / len(list1)"
   ]
  },
  {
   "cell_type": "code",
   "execution_count": 93,
   "metadata": {},
   "outputs": [
    {
     "name": "stdout",
     "output_type": "stream",
     "text": [
      "Index 0: 13.93%\n",
      "Index 1: 15.69%\n",
      "Index 2: 16.36%\n",
      "Index 3: 14.05%\n",
      "Index 4: 12.47%\n",
      "Index 5: 11.46%\n",
      "Index 6: 12.02%\n",
      "Index 7: 10.16%\n",
      "Index 8: 9.73%\n",
      "Index 9: 7.35%\n",
      "Index 10: 6.31%\n",
      "Index 11: 5.91%\n",
      "Index 12: 4.90%\n",
      "Index 13: 4.27%\n",
      "Index 14: 2.80%\n",
      "Index 15: 1.50%\n",
      "Index 16: 0.93%\n",
      "Index 17: 0.58%\n",
      "Index 18: 0.31%\n",
      "Index 19: 0.00%\n",
      "Index 20: 0.00%\n",
      "Index 21: 0.00%\n",
      "Index 22: 0.00%\n",
      "Index 23: 0.00%\n",
      "Index 24: 0.00%\n"
     ]
    }
   ],
   "source": [
    "for i in range(len(recognition_rates_2)):\n",
    "    diff = abs(recognition_rates_2[i] - recognition_rates_3[i])\n",
    "    pct_diff = (diff / recognition_rates_3[i]) * 100\n",
    "    print(f\"Index {i}: {pct_diff:.2f}%\")"
   ]
  },
  {
   "cell_type": "code",
   "execution_count": null,
   "metadata": {},
   "outputs": [],
   "source": [
    "differences for area curvature and mixed area-int curvature Match index for indexes 0 - 10 \n",
    "Index 0: 39.06%\n",
    "Index 1: 31.65%\n",
    "Index 2: 26.15%\n",
    "Index 3: 26.19%\n",
    "Index 4: 21.71%\n",
    "Index 5: 20.48%\n",
    "Index 6: 17.80%\n",
    "Index 7: 18.00%\n",
    "Index 8: 16.32%\n",
    "Index 9: 15.07%\n",
    "Index 10: 13.40%\n",
    "\n",
    "\n",
    "differences for area curvature and mixed int curvature Match index for indexes 0 - 10 \n",
    "Index 0: 38.10%\n",
    "Index 1: 35.96%\n",
    "Index 2: 33.70%\n",
    "Index 3: 31.89%\n",
    "Index 4: 28.08%\n",
    "Index 5: 26.51%\n",
    "Index 6: 25.32%\n",
    "Index 7: 23.86%\n",
    "Index 8: 22.39%\n",
    "Index 9: 19.48%\n",
    "Index 10: 17.38%\n",
    "\n",
    "differences for int curvature and mixed area-int curvature Match index for indexes 0 - 10 \n",
    "Index 0: 13.93%\n",
    "Index 1: 15.69%\n",
    "Index 2: 16.36%\n",
    "Index 3: 14.05%\n",
    "Index 4: 12.47%\n",
    "Index 5: 11.46%\n",
    "Index 6: 12.02%\n",
    "Index 7: 10.16%\n",
    "Index 8: 9.73%\n",
    "Index 9: 7.35%\n",
    "Index 10: 6.31%"
   ]
  },
  {
   "cell_type": "code",
   "execution_count": 110,
   "metadata": {},
   "outputs": [
    {
     "name": "stdout",
     "output_type": "stream",
     "text": [
      "21.7\n",
      "32.19\n",
      "40.27\n",
      "45.27\n",
      "51.57\n",
      "56.49\n",
      "60.94\n",
      "64.17\n",
      "67.61\n",
      "70.86\n",
      "74.39\n",
      "77.84\n",
      "81.09\n",
      "84.27\n",
      "86.71\n",
      "89.4\n",
      "92.37\n",
      "94.92\n",
      "97.67\n",
      "100.0\n",
      "100.0\n",
      "100.0\n",
      "100.0\n",
      "100.0\n",
      "100.0\n"
     ]
    }
   ],
   "source": [
    "for idx in recognition_rates_3:\n",
    "    print(round(idx * 100, 2))"
   ]
  },
  {
   "cell_type": "code",
   "execution_count": 103,
   "metadata": {},
   "outputs": [
    {
     "data": {
      "text/plain": [
       "[0.301726618705036,\n",
       " 0.4237410071942446,\n",
       " 0.5080575539568345,\n",
       " 0.5712230215827339,\n",
       " 0.6276258992805755,\n",
       " 0.6805755395683454,\n",
       " 0.717841726618705,\n",
       " 0.7572661870503598,\n",
       " 0.7864748201438849,\n",
       " 0.8153956834532374,\n",
       " 0.8435971223021582,\n",
       " 0.865179856115108,\n",
       " 0.8876258992805756,\n",
       " 0.9093525179856116,\n",
       " 0.9297841726618705,\n",
       " 0.9458992805755395,\n",
       " 0.9614388489208633,\n",
       " 0.9735251798561151,\n",
       " 0.9887769784172662,\n",
       " 1.0,\n",
       " 1.0,\n",
       " 1.0,\n",
       " 1.0,\n",
       " 1.0,\n",
       " 1.0]"
      ]
     },
     "execution_count": 103,
     "metadata": {},
     "output_type": "execute_result"
    }
   ],
   "source": [
    "recognition_rates"
   ]
  }
 ],
 "metadata": {
  "kernelspec": {
   "display_name": "tf2.4",
   "language": "python",
   "name": "python3"
  },
  "language_info": {
   "codemirror_mode": {
    "name": "ipython",
    "version": 3
   },
   "file_extension": ".py",
   "mimetype": "text/x-python",
   "name": "python",
   "nbconvert_exporter": "python",
   "pygments_lexer": "ipython3",
   "version": "3.8.0"
  },
  "orig_nbformat": 4
 },
 "nbformat": 4,
 "nbformat_minor": 2
}
