{
 "cells": [
  {
   "cell_type": "code",
   "execution_count": 4,
   "metadata": {},
   "outputs": [
    {
     "name": "stdout",
     "output_type": "stream",
     "text": [
      "['download (1).png', 'download (10).png', 'download (11).png', 'download (12).png', 'download (13).png', 'download (14).png', 'download (15).png', 'download (16).png', 'download (17).png', 'download (18).png', 'download (19).png', 'download (2).png', 'download (20).png', 'download (21).png', 'download (22).png', 'download (23).png', 'download (24).png', 'download (25).png', 'download (26).png', 'download (27).png', 'download (28).png', 'download (29).png', 'download (3).png', 'download (30).png', 'download (31).png', 'download (32).png', 'download (33).png', 'download (34).png', 'download (35).png', 'download (36).png', 'download (37).png', 'download (38).png', 'download (39).png', 'download (4).png', 'download (40).png', 'download (41).png', 'download (42).png', 'download (43).png', 'download (44).png', 'download (45).png', 'download (46).png', 'download (47).png', 'download (48).png', 'download (49).png', 'download (5).png', 'download (6).png', 'download (7).png', 'download (8).png', 'download (9).png', 'download.png']\n"
     ]
    }
   ],
   "source": [
    "import os\n",
    "import random\n",
    "import string\n",
    "\n",
    "# Path to the folder containing the images\n",
    "folder_path = \"./../../images/raws/Vitex_nagundo\"\n",
    "\n",
    "# Get a list of all files in the folder\n",
    "files = os.listdir(folder_path)\n",
    "print(files)\n",
    "\n",
    "# Filter the list to include only image files (e.g., .jpg, .png, .jpeg)\n",
    "image_files = [f for f in files if f.lower().endswith((\".jpg\", \".png\", \".jpeg\"))]\n",
    "\n",
    "# Iterate through the image files\n",
    "for image_file in image_files:\n",
    "    # Generate a random string of characters to use as the new filename\n",
    "    new_filename = ''.join(random.choices(string.ascii_letters + string.digits, k=10))\n",
    "    # Extract the file extension from the original filename\n",
    "    file_extension = os.path.splitext(image_file)[1]\n",
    "    # Construct the new filename with the random string and original file extension\n",
    "    new_filename_with_extension = new_filename + file_extension\n",
    "    # Generate the new file path by joining the folder path and the new filename with extension\n",
    "    new_file_path = os.path.join(folder_path, new_filename_with_extension)\n",
    "    # Construct the old file path by joining the folder path and the original filename\n",
    "    old_file_path = os.path.join(folder_path, image_file)\n",
    "    # Rename the file\n",
    "    os.rename(old_file_path, new_file_path)"
   ]
  }
 ],
 "metadata": {
  "kernelspec": {
   "display_name": "tf2.4",
   "language": "python",
   "name": "python3"
  },
  "language_info": {
   "codemirror_mode": {
    "name": "ipython",
    "version": 3
   },
   "file_extension": ".py",
   "mimetype": "text/x-python",
   "name": "python",
   "nbconvert_exporter": "python",
   "pygments_lexer": "ipython3",
   "version": "3.8.0"
  },
  "orig_nbformat": 4
 },
 "nbformat": 4,
 "nbformat_minor": 2
}
