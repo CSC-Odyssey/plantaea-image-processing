{
 "cells": [
  {
   "cell_type": "code",
   "execution_count": 20,
   "metadata": {},
   "outputs": [
    {
     "name": "stdout",
     "output_type": "stream",
     "text": [
      "['download (1).png', 'download (1)_rotate_1_.png', 'download (1)_rotate_2_.png', 'download (1)_rotate_3_.png', 'download (1)_rotate_4_.png', 'download (1)_rotate_5_.png', 'download (10).png', 'download (10)_rotate_1_.png', 'download (10)_rotate_2_.png', 'download (10)_rotate_3_.png', 'download (10)_rotate_4_.png', 'download (10)_rotate_5_.png', 'download (11).png', 'download (11)_rotate_1_.png', 'download (11)_rotate_2_.png', 'download (11)_rotate_3_.png', 'download (11)_rotate_4_.png', 'download (11)_rotate_5_.png', 'download (12).png', 'download (12)_rotate_1_.png', 'download (12)_rotate_2_.png', 'download (12)_rotate_3_.png', 'download (12)_rotate_4_.png', 'download (12)_rotate_5_.png', 'download (13).png', 'download (13)_rotate_1_.png', 'download (13)_rotate_2_.png', 'download (13)_rotate_3_.png', 'download (13)_rotate_4_.png', 'download (13)_rotate_5_.png', 'download (14).png', 'download (14)_rotate_1_.png', 'download (14)_rotate_2_.png', 'download (14)_rotate_3_.png', 'download (14)_rotate_4_.png', 'download (14)_rotate_5_.png', 'download (15).png', 'download (15)_rotate_1_.png', 'download (15)_rotate_2_.png', 'download (15)_rotate_3_.png', 'download (15)_rotate_4_.png', 'download (15)_rotate_5_.png', 'download (16).png', 'download (16)_rotate_1_.png', 'download (16)_rotate_2_.png', 'download (16)_rotate_3_.png', 'download (16)_rotate_4_.png', 'download (16)_rotate_5_.png', 'download (17).png', 'download (17)_rotate_1_.png', 'download (17)_rotate_2_.png', 'download (17)_rotate_3_.png', 'download (17)_rotate_4_.png', 'download (17)_rotate_5_.png', 'download (18).png', 'download (18)_rotate_1_.png', 'download (18)_rotate_2_.png', 'download (18)_rotate_3_.png', 'download (18)_rotate_4_.png', 'download (18)_rotate_5_.png', 'download (19).png', 'download (19)_rotate_1_.png', 'download (19)_rotate_2_.png', 'download (19)_rotate_3_.png', 'download (19)_rotate_4_.png', 'download (19)_rotate_5_.png', 'download (2).png', 'download (2)_rotate_1_.png', 'download (2)_rotate_2_.png', 'download (2)_rotate_3_.png', 'download (2)_rotate_4_.png', 'download (2)_rotate_5_.png', 'download (20).png', 'download (20)_rotate_1_.png', 'download (20)_rotate_2_.png', 'download (20)_rotate_3_.png', 'download (20)_rotate_4_.png', 'download (20)_rotate_5_.png', 'download (21).png', 'download (21)_rotate_1_.png', 'download (21)_rotate_2_.png', 'download (21)_rotate_3_.png', 'download (21)_rotate_4_.png', 'download (21)_rotate_5_.png', 'download (22).png', 'download (22)_rotate_1_.png', 'download (22)_rotate_2_.png', 'download (22)_rotate_3_.png', 'download (22)_rotate_4_.png', 'download (22)_rotate_5_.png', 'download (23).png', 'download (23)_rotate_1_.png', 'download (23)_rotate_2_.png', 'download (23)_rotate_3_.png', 'download (23)_rotate_4_.png', 'download (23)_rotate_5_.png', 'download (24).png', 'download (24)_rotate_1_.png', 'download (24)_rotate_2_.png', 'download (24)_rotate_3_.png', 'download (24)_rotate_4_.png', 'download (24)_rotate_5_.png', 'download (25).png', 'download (25)_rotate_1_.png', 'download (25)_rotate_2_.png', 'download (25)_rotate_3_.png', 'download (25)_rotate_4_.png', 'download (25)_rotate_5_.png', 'download (26).png', 'download (26)_rotate_1_.png', 'download (26)_rotate_2_.png', 'download (26)_rotate_3_.png', 'download (26)_rotate_4_.png', 'download (26)_rotate_5_.png', 'download (27).png', 'download (27)_rotate_1_.png', 'download (27)_rotate_2_.png', 'download (27)_rotate_3_.png', 'download (27)_rotate_4_.png', 'download (27)_rotate_5_.png', 'download (28).png', 'download (28)_rotate_1_.png', 'download (28)_rotate_2_.png', 'download (28)_rotate_3_.png', 'download (28)_rotate_4_.png', 'download (28)_rotate_5_.png', 'download (29).png', 'download (29)_rotate_1_.png', 'download (29)_rotate_2_.png', 'download (29)_rotate_3_.png', 'download (29)_rotate_4_.png', 'download (29)_rotate_5_.png', 'download (3).png', 'download (3)_rotate_1_.png', 'download (3)_rotate_2_.png', 'download (3)_rotate_3_.png', 'download (3)_rotate_4_.png', 'download (3)_rotate_5_.png', 'download (30).png', 'download (30)_rotate_1_.png', 'download (30)_rotate_2_.png', 'download (30)_rotate_3_.png', 'download (30)_rotate_4_.png', 'download (30)_rotate_5_.png', 'download (31).png', 'download (31)_rotate_1_.png', 'download (31)_rotate_2_.png', 'download (31)_rotate_3_.png', 'download (31)_rotate_4_.png', 'download (31)_rotate_5_.png', 'download (32).png', 'download (32)_rotate_1_.png', 'download (32)_rotate_2_.png', 'download (32)_rotate_3_.png', 'download (32)_rotate_4_.png', 'download (32)_rotate_5_.png', 'download (33).png', 'download (33)_rotate_1_.png', 'download (33)_rotate_2_.png', 'download (33)_rotate_3_.png', 'download (33)_rotate_4_.png', 'download (33)_rotate_5_.png', 'download (34).png', 'download (34)_rotate_1_.png', 'download (34)_rotate_2_.png', 'download (34)_rotate_3_.png', 'download (34)_rotate_4_.png', 'download (34)_rotate_5_.png', 'download (35).png', 'download (35)_rotate_1_.png', 'download (35)_rotate_2_.png', 'download (35)_rotate_3_.png', 'download (35)_rotate_4_.png', 'download (35)_rotate_5_.png', 'download (36).png', 'download (36)_rotate_1_.png', 'download (36)_rotate_2_.png', 'download (36)_rotate_3_.png', 'download (36)_rotate_4_.png', 'download (36)_rotate_5_.png', 'download (37).png', 'download (37)_rotate_1_.png', 'download (37)_rotate_2_.png', 'download (37)_rotate_3_.png', 'download (37)_rotate_4_.png', 'download (37)_rotate_5_.png', 'download (38).png', 'download (38)_rotate_1_.png', 'download (38)_rotate_2_.png', 'download (38)_rotate_3_.png', 'download (38)_rotate_4_.png', 'download (38)_rotate_5_.png', 'download (39).png', 'download (39)_rotate_1_.png', 'download (39)_rotate_2_.png', 'download (39)_rotate_3_.png', 'download (39)_rotate_4_.png', 'download (39)_rotate_5_.png', 'download (4).png', 'download (4)_rotate_1_.png', 'download (4)_rotate_2_.png', 'download (4)_rotate_3_.png', 'download (4)_rotate_4_.png', 'download (4)_rotate_5_.png', 'download (40).png', 'download (40)_rotate_1_.png', 'download (40)_rotate_2_.png', 'download (40)_rotate_3_.png', 'download (40)_rotate_4_.png', 'download (40)_rotate_5_.png', 'download (41).png', 'download (41)_rotate_1_.png', 'download (41)_rotate_2_.png', 'download (41)_rotate_3_.png', 'download (41)_rotate_4_.png', 'download (41)_rotate_5_.png', 'download (42).png', 'download (42)_rotate_1_.png', 'download (42)_rotate_2_.png', 'download (42)_rotate_3_.png', 'download (42)_rotate_4_.png', 'download (42)_rotate_5_.png', 'download (43).png', 'download (43)_rotate_1_.png', 'download (43)_rotate_2_.png', 'download (43)_rotate_3_.png', 'download (43)_rotate_4_.png', 'download (43)_rotate_5_.png', 'download (44).png', 'download (44)_rotate_1_.png', 'download (44)_rotate_2_.png', 'download (44)_rotate_3_.png', 'download (44)_rotate_4_.png', 'download (44)_rotate_5_.png', 'download (45).png', 'download (45)_rotate_1_.png', 'download (45)_rotate_2_.png', 'download (45)_rotate_3_.png', 'download (45)_rotate_4_.png', 'download (45)_rotate_5_.png', 'download (46).png', 'download (46)_rotate_1_.png', 'download (46)_rotate_2_.png', 'download (46)_rotate_3_.png', 'download (46)_rotate_4_.png', 'download (46)_rotate_5_.png', 'download (47).png', 'download (47)_rotate_1_.png', 'download (47)_rotate_2_.png', 'download (47)_rotate_3_.png', 'download (47)_rotate_4_.png', 'download (47)_rotate_5_.png', 'download (48).png', 'download (48)_rotate_1_.png', 'download (48)_rotate_2_.png', 'download (48)_rotate_3_.png', 'download (48)_rotate_4_.png', 'download (48)_rotate_5_.png', 'download (49).png', 'download (49)_rotate_1_.png', 'download (49)_rotate_2_.png', 'download (49)_rotate_3_.png', 'download (49)_rotate_4_.png', 'download (49)_rotate_5_.png', 'download (5).png', 'download (5)_rotate_1_.png', 'download (5)_rotate_2_.png', 'download (5)_rotate_3_.png', 'download (5)_rotate_4_.png', 'download (5)_rotate_5_.png', 'download (6).png', 'download (6)_rotate_1_.png', 'download (6)_rotate_2_.png', 'download (6)_rotate_3_.png', 'download (6)_rotate_4_.png', 'download (6)_rotate_5_.png', 'download (7).png', 'download (7)_rotate_1_.png', 'download (7)_rotate_2_.png', 'download (7)_rotate_3_.png', 'download (7)_rotate_4_.png', 'download (7)_rotate_5_.png', 'download (8).png', 'download (8)_rotate_1_.png', 'download (8)_rotate_2_.png', 'download (8)_rotate_3_.png', 'download (8)_rotate_4_.png', 'download (8)_rotate_5_.png', 'download (9).png', 'download (9)_rotate_1_.png', 'download (9)_rotate_2_.png', 'download (9)_rotate_3_.png', 'download (9)_rotate_4_.png', 'download (9)_rotate_5_.png', 'download.png', 'download_rotate_1_.png', 'download_rotate_2_.png', 'download_rotate_3_.png', 'download_rotate_4_.png', 'download_rotate_5_.png']\n"
     ]
    }
   ],
   "source": [
    "import os\n",
    "import random\n",
    "import string\n",
    "\n",
    "# Path to the folder containing the images\n",
    "folder_path = \"./../../images/augmented/Vitex_nagundo\"\n",
    "\n",
    "# Get a list of all files in the folder\n",
    "files = os.listdir(folder_path)\n",
    "print(files)\n",
    "\n",
    "# Filter the list to include only image files (e.g., .jpg, .png, .jpeg)\n",
    "image_files = [f for f in files if f.lower().endswith((\".jpg\", \".png\", \".jpeg\"))]\n",
    "\n",
    "# Iterate through the image files\n",
    "for image_file in image_files:\n",
    "    # Generate a random string of characters to use as the new filename\n",
    "    new_filename = ''.join(random.choices(string.ascii_letters + string.digits, k=10))\n",
    "    # Extract the file extension from the original filename\n",
    "    file_extension = os.path.splitext(image_file)[1]\n",
    "    # Construct the new filename with the random string and original file extension\n",
    "    new_filename_with_extension = new_filename + file_extension\n",
    "    # Generate the new file path by joining the folder path and the new filename with extension\n",
    "    new_file_path = os.path.join(folder_path, new_filename_with_extension)\n",
    "    # Construct the old file path by joining the folder path and the original filename\n",
    "    old_file_path = os.path.join(folder_path, image_file)\n",
    "    # Rename the file\n",
    "    os.rename(old_file_path, new_file_path)"
   ]
  }
 ],
 "metadata": {
  "kernelspec": {
   "display_name": "tf2.4",
   "language": "python",
   "name": "python3"
  },
  "language_info": {
   "codemirror_mode": {
    "name": "ipython",
    "version": 3
   },
   "file_extension": ".py",
   "mimetype": "text/x-python",
   "name": "python",
   "nbconvert_exporter": "python",
   "pygments_lexer": "ipython3",
   "version": "3.8.0"
  },
  "orig_nbformat": 4
 },
 "nbformat": 4,
 "nbformat_minor": 2
}
