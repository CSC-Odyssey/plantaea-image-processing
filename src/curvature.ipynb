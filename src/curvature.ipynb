{
  "cells": [
    {
      "cell_type": "code",
      "execution_count": 1,
      "metadata": {
        "id": "g4D8V1ss7moo"
      },
      "outputs": [
        {
          "name": "stderr",
          "output_type": "stream",
          "text": [
            "d:\\anaconda3\\envs\\tf2.4\\lib\\site-packages\\numpy\\_distributor_init.py:30: UserWarning: loaded more than 1 DLL from .libs:\n",
            "d:\\anaconda3\\envs\\tf2.4\\lib\\site-packages\\numpy\\.libs\\libopenblas.EL2C6PLE4ZYW3ECEVIV3OXXGRN2NRFM2.gfortran-win_amd64.dll\n",
            "d:\\anaconda3\\envs\\tf2.4\\lib\\site-packages\\numpy\\.libs\\libopenblas.FB5AE2TYXYH2IJRDKGDGQ3XBKLKTF43H.gfortran-win_amd64.dll\n",
            "  warnings.warn(\"loaded more than 1 DLL from .libs:\"\n",
            "<frozen importlib._bootstrap>:219: RuntimeWarning: scipy._lib.messagestream.MessageStream size changed, may indicate binary incompatibility. Expected 56 from C header, got 64 from PyObject\n"
          ]
        }
      ],
      "source": [
        "import cv2\n",
        "import numpy as np\n",
        "import matplotlib.pyplot as plt\n",
        "import numpy as np\n",
        "import skimage.segmentation as seg\n",
        "import skimage.filters as filt\n",
        "import skimage.morphology as morph\n",
        "import skimage.draw as draw\n",
        "from scipy import ndimage\n",
        "from mpl_toolkits.mplot3d import Axes3D\n",
        "from scipy.integrate import cumtrapz\n",
        "import scipy.ndimage.filters as filters"
      ]
    },
    {
      "cell_type": "code",
      "execution_count": 114,
      "metadata": {
        "id": "D9HxxU4y7rrK"
      },
      "outputs": [],
      "source": [
        "def show(img_path):\n",
        "  plt.imshow(img_path)\n",
        "  plt.axis('off')\n",
        "  plt.show()\n",
        "def count_pos(arr):\n",
        "  count = 0\n",
        "  for num in arr:\n",
        "    if num > 0:\n",
        "        count += 1\n",
        "\n",
        "  print(\"Number of positive elements in the array:\", count)\n"
      ]
    },
    {
      "cell_type": "code",
      "execution_count": 115,
      "metadata": {
        "id": "ca2ryqGbwzql"
      },
      "outputs": [],
      "source": [
        "def curvature(x, y, xc, yc, r):\n",
        "    # Shift coordinates to make the center of the circle the origin\n",
        "    x_shifted = x - xc\n",
        "    y_shifted = y - yc\n",
        "    # Calculate distance from each point to the center of the circle\n",
        "    d = np.sqrt(x_shifted**2 + y_shifted**2)\n",
        "    # Calculate the curvature only for points inside the circle\n",
        "    inside_circle = d <= r\n",
        "    dx_dt = np.gradient(x[inside_circle])\n",
        "    dy_dt = np.gradient(y[inside_circle])\n",
        "    d2x_dt2 = np.gradient(dx_dt)\n",
        "    d2y_dt2 = np.gradient(dy_dt)\n",
        "    curvature = (dx_dt * d2y_dt2 - d2x_dt2 * dy_dt) / (dx_dt**2 + dy_dt**2)**(3/2)\n",
        "    # Pad the curvature array with zeros for the points outside the circle\n",
        "    curvature_padded = np.zeros_like(d)\n",
        "    curvature_padded[inside_circle] = curvature\n",
        "    return curvature_padded\n",
        "def integral_curvature(x, y, xc, yc, r):\n",
        "    k = curvature(x, y, xc, yc, r)\n",
        "    return cumtrapz(k, initial=0)\n",
        "\n",
        "def get_integral_curvature(i,x,y, r):\n",
        "    int_curv_list = []\n",
        "    # Calculate the integral curvature for a circle centered at (x[i], y[i]) with radius r\n",
        "    int_curv = integral_curvature(x, y, x[i], y[i], r)[-1]\n",
        "    int_curv_list.append(int_curv)\n",
        "    return int_curv_list\n",
        "\n",
        "    return int_curv\n",
        "def get_area_measure(contour,i,radius, thresh):\n",
        "    curvature_arr = []\n",
        "    # Approximate the contour with a circle centered at the current point\n",
        "    circle_mask = np.zeros_like(gray)\n",
        "    cv2.circle(circle_mask, (contour[i][0][0], contour[i][0][1]), radius, (255, 255, 255), -1)\n",
        "    intersection_mask = cv2.bitwise_and(circle_mask, thresh)\n",
        "    intersection_area = np.sum(intersection_mask) / 255\n",
        "    circle_area = np.pi * radius ** 2\n",
        "    intersection_fraction = intersection_area / circle_area\n",
        "    # Compute the curvature value for the current point\n",
        "    curvature_arr.append(intersection_fraction)\n",
        "    return curvature_arr\n",
        "\n",
        "\n",
        "def get_curvature_arc_length(contour,i,x,y,radius,circle_perimeters):\n",
        "    curvature_arr = []\n",
        "    # Approximate the contour with a circle centered at the current point\n",
        "    (cx, cy) = x[i], y[i]\n",
        "    # Calculate the length of the part of the circle's circumference that is inside the object\n",
        "    chord_length = 2 * np.sqrt(radius**2 - ((radius**2-(x[i]-cx)**2-(y[i]-cy)**2))/4)\n",
        "    arc_length = 2 * np.arcsin(chord_length / (2 * radius))\n",
        "    circle_perimeters.append(arc_length)\n",
        "    if len(circle_perimeters) > 0:\n",
        "    # Calculate the average perimeter of the fitted circles\n",
        "      circle_perimeter = np.mean(circle_perimeters)\n",
        "    else:\n",
        "                    # Use the radius as an estimate for the perimeter\n",
        "      circle_perimeter = 2 * np.pi * radius\n",
        "\n",
        "                # Calculate perimeter of the contour\n",
        "    contour_perimeter = cv2.arcLength(contour, True)\n",
        "                # Calculate the fraction of the circle's perimeter contained inside the object\n",
        "    fraction = circle_perimeter / contour_perimeter\n",
        "    curvature_arr.append(fraction * arc_length)\n",
        "\n",
        "\n",
        "        \n",
        "    return curvature_arr\n",
        "\n",
        "def get_curvatures(contours, radius_arr,thresh):\n",
        "    curvature_arr=[]\n",
        "    \n",
        "    # Loop over each contour\n",
        "    for contour in contours:\n",
        "        curr = []\n",
        "\n",
        "        # Precompute the coordinates of all points in the contour\n",
        "        x, y = contour[:, 0, 0], contour[:, 0, 1]\n",
        "        # Compute the maximum and minimum x and y coordinates of the contour\n",
        "        min_x, max_x = np.min(x), np.max(x)\n",
        "        min_y, max_y = np.min(y), np.max(y)\n",
        "        # Compute the thresholded image for the current contour\n",
        "        mask = np.zeros_like(gray)\n",
        "        cv2.drawContours(mask, [contour], 0, (255, 255, 255), -1)\n",
        "        thresh = cv2.bitwise_and(gray, mask)\n",
        "        # Compute the area measure for each point in the contour\n",
        "        for radius in radius_arr:\n",
        "          circle_perimeters = []\n",
        "          arc_length = 0  # Initialize arc_length to 0\n",
        "          curr = []\n",
        "          for i in range(len(contour)):\n",
        "            curr_area = get_area_measure(contour,i,radius,thresh)\n",
        "            curr_arc = get_curvature_arc_length(contour,i,x,y,radius,circle_perimeters)\n",
        "            curr_int = get_integral_curvature(i,x,y, radius)\n",
        "            curr.append(curr_area)\n",
        "            curr.append(curr_arc)\n",
        "            curr.append(curr_int)\n",
        "          curvature_arr.append(curr)\n",
        "    return curvature_arr\n",
        "            #print( f'area={curr_area} arc ={curr_arc} curr int = {curr_int}')"
      ]
    },
    {
      "cell_type": "code",
      "execution_count": 116,
      "metadata": {
        "id": "znW4wHIL74qf"
      },
      "outputs": [],
      "source": [
        "# Load the image\n",
        "img = cv2.imread('13002228285126.png')\n",
        "# set the new size\n",
        "new_size = (250, 250)\n",
        "\n",
        "# resize the image\n",
        "img = cv2.resize(img, new_size)\n",
        "\n",
        "# Convert the image to grayscale\n",
        "gray = cv2.cvtColor(img, cv2.COLOR_BGR2GRAY)\n",
        "\n",
        "# Threshold the image to get a binary image\n",
        "ret, thresh = cv2.threshold(gray, 127, 255, cv2.THRESH_BINARY)\n",
        "\n",
        "# Find the contours in the image\n",
        "contours, hierarchy = cv2.findContours(thresh, cv2.RETR_TREE, cv2.CHAIN_APPROX_SIMPLE)\n",
        "\n",
        "radius_arr = [10,20,30,40,50,60,70,80,90,100]\n",
        "\n",
        "currvature_arr = get_curvatures(contours,radius_arr, thresh)\n",
        "\n"
      ]
    },
    {
      "cell_type": "code",
      "execution_count": null,
      "metadata": {
        "id": "H8UDOPgvqDga"
      },
      "outputs": [],
      "source": []
    },
    {
      "cell_type": "code",
      "execution_count": null,
      "metadata": {
        "id": "MUXIxejvepOH"
      },
      "outputs": [],
      "source": []
    }
  ],
  "metadata": {
    "colab": {
      "provenance": []
    },
    "kernelspec": {
      "display_name": "Python 3",
      "name": "python3"
    },
    "language_info": {
      "codemirror_mode": {
        "name": "ipython",
        "version": 3
      },
      "file_extension": ".py",
      "mimetype": "text/x-python",
      "name": "python",
      "nbconvert_exporter": "python",
      "pygments_lexer": "ipython3",
      "version": "3.8.0"
    }
  },
  "nbformat": 4,
  "nbformat_minor": 0
}
