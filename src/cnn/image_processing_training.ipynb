{
 "cells": [
  {
   "cell_type": "code",
   "execution_count": 77,
   "metadata": {},
   "outputs": [],
   "source": [
    "import pandas as pd\n",
    "import numpy as np\n",
    "import tensorflow as tf\n",
    "from sklearn.model_selection import train_test_split\n",
    "from sklearn.preprocessing import StandardScaler\n",
    "from sklearn.metrics import accuracy_score, precision_score, recall_score\n",
    "from tensorflow.keras import regularizers"
   ]
  },
  {
   "cell_type": "code",
   "execution_count": 78,
   "metadata": {},
   "outputs": [],
   "source": [
    "# Load and preprocess\n",
    "file_path = '../../csv/features_data-Sheet1.csv'"
   ]
  },
  {
   "cell_type": "code",
   "execution_count": 79,
   "metadata": {},
   "outputs": [],
   "source": [
    "\n",
    "df = pd.read_csv(file_path)\n",
    "#   X = df[['length', 'width', 'diameter', 'area', 'perimeter', 'rectangularity', 'circularity',\n",
    "#           'ellipticity', 'aspect ratio', 'form factor', 'narrow factor', 'perimeter ratio of diameter',\n",
    "#           'perimeter Ratio of Physiological Length and Physiological Width', 'Texture']]\n",
    "#   y = df['Species']\n",
    "\n",
    "X = df[['circularity',\n",
    "            'ellipticity', 'aspect ratio', 'form factor', 'narrow factor', 'perimeter ratio of diameter',\n",
    "            'perimeter Ratio of Physiological Length and Physiological Width']]\n",
    "y = df['Species']\n",
    "\n",
    "X_train, X_test, y_train, y_test = train_test_split(X, y, test_size=0.1, random_state=42)\n",
    "\n",
    "# Normalize the data\n",
    "scaler = StandardScaler()\n",
    "X_train = scaler.fit_transform(X_train)\n",
    "X_test = scaler.transform(X_test)"
   ]
  },
  {
   "cell_type": "code",
   "execution_count": 80,
   "metadata": {},
   "outputs": [],
   "source": [
    "model = tf.keras.models.Sequential()\n",
    "model.add(tf.keras.layers.Dense(units=64, input_dim=X_train.shape[1], activation = 'relu'))\n",
    "model.add(tf.keras.layers.Dense(units=32, activation='relu', kernel_regularizer=regularizers.l2(0.01)))\n",
    "model.add(tf.keras.layers.Dense(units=1, activation='linear'))"
   ]
  },
  {
   "cell_type": "code",
   "execution_count": 86,
   "metadata": {},
   "outputs": [],
   "source": [
    "# Compile the model\n",
    "from tensorflow import keras\n",
    "model.compile(optimizer='adam', loss='mean_squared_error', metrics = ['accuracy'])"
   ]
  },
  {
   "cell_type": "code",
   "execution_count": 95,
   "metadata": {},
   "outputs": [],
   "source": [
    "from tensorflow.keras.callbacks import ModelCheckpoint, EarlyStopping\n",
    "\n",
    "es = EarlyStopping(monitor = 'test_accuracy', min_delta=0.01, patience = 3, verbose = 1)\n",
    "\n",
    "mc = ModelCheckpoint(filepath = '../../models/plant_prediction_model_ann.h5', \n",
    "                     monitor = 'accuracy', \n",
    "                     min_delta=0.01, \n",
    "                     patience = 2, \n",
    "                     verbose = 1, \n",
    "                     save_best_only = True)\n",
    "\n",
    "cb = [es, mc]"
   ]
  },
  {
   "cell_type": "code",
   "execution_count": 96,
   "metadata": {},
   "outputs": [
    {
     "name": "stdout",
     "output_type": "stream",
     "text": [
      "Epoch 1/20\n",
      "20/20 [==============================] - ETA: 0s - loss: 0.8639 - accuracy: 0.2517WARNING:tensorflow:Early stopping conditioned on metric `test_accuracy` which is not available. Available metrics are: loss,accuracy\n",
      "\n",
      "Epoch 00001: accuracy improved from -inf to 0.25169, saving model to ../../models/plant_prediction_model_ann.h5\n",
      "20/20 [==============================] - 0s 8ms/step - loss: 0.8639 - accuracy: 0.2517\n",
      "Epoch 2/20\n",
      "14/20 [====================>.........] - ETA: 0s - loss: 0.8501 - accuracy: 0.2664WARNING:tensorflow:Early stopping conditioned on metric `test_accuracy` which is not available. Available metrics are: loss,accuracy\n",
      "\n",
      "Epoch 00002: accuracy improved from 0.25169 to 0.25846, saving model to ../../models/plant_prediction_model_ann.h5\n",
      "20/20 [==============================] - 0s 5ms/step - loss: 0.8189 - accuracy: 0.2585\n",
      "Epoch 3/20\n",
      "13/20 [==================>...........] - ETA: 0s - loss: 0.8534 - accuracy: 0.2516WARNING:tensorflow:Early stopping conditioned on metric `test_accuracy` which is not available. Available metrics are: loss,accuracy\n",
      "\n",
      "Epoch 00003: accuracy did not improve from 0.25846\n",
      "20/20 [==============================] - 0s 4ms/step - loss: 0.8241 - accuracy: 0.2571\n",
      "Epoch 4/20\n",
      "15/20 [=====================>........] - ETA: 0s - loss: 0.8518 - accuracy: 0.2360WARNING:tensorflow:Early stopping conditioned on metric `test_accuracy` which is not available. Available metrics are: loss,accuracy\n",
      "\n",
      "Epoch 00004: accuracy did not improve from 0.25846\n",
      "20/20 [==============================] - 0s 4ms/step - loss: 0.8187 - accuracy: 0.2476\n",
      "Epoch 5/20\n",
      "14/20 [====================>.........] - ETA: 0s - loss: 0.8013 - accuracy: 0.2529WARNING:tensorflow:Early stopping conditioned on metric `test_accuracy` which is not available. Available metrics are: loss,accuracy\n",
      "\n",
      "Epoch 00005: accuracy did not improve from 0.25846\n",
      "20/20 [==============================] - 0s 4ms/step - loss: 0.8125 - accuracy: 0.2490\n",
      "Epoch 6/20\n",
      "15/20 [=====================>........] - ETA: 0s - loss: 0.7892 - accuracy: 0.2577WARNING:tensorflow:Early stopping conditioned on metric `test_accuracy` which is not available. Available metrics are: loss,accuracy\n",
      "\n",
      "Epoch 00006: accuracy did not improve from 0.25846\n",
      "20/20 [==============================] - 0s 4ms/step - loss: 0.8139 - accuracy: 0.2503\n",
      "Epoch 7/20\n",
      "19/20 [===========================>..] - ETA: 0s - loss: 0.8226 - accuracy: 0.2575WARNING:tensorflow:Early stopping conditioned on metric `test_accuracy` which is not available. Available metrics are: loss,accuracy\n",
      "\n",
      "Epoch 00007: accuracy did not improve from 0.25846\n",
      "20/20 [==============================] - 0s 6ms/step - loss: 0.8136 - accuracy: 0.2544\n",
      "Epoch 8/20\n",
      "13/20 [==================>...........] - ETA: 0s - loss: 0.7908 - accuracy: 0.2536WARNING:tensorflow:Early stopping conditioned on metric `test_accuracy` which is not available. Available metrics are: loss,accuracy\n",
      "\n",
      "Epoch 00008: accuracy did not improve from 0.25846\n",
      "20/20 [==============================] - 0s 4ms/step - loss: 0.8134 - accuracy: 0.2544\n",
      "Epoch 9/20\n",
      "14/20 [====================>.........] - ETA: 0s - loss: 0.8206 - accuracy: 0.2819WARNING:tensorflow:Early stopping conditioned on metric `test_accuracy` which is not available. Available metrics are: loss,accuracy\n",
      "\n",
      "Epoch 00009: accuracy did not improve from 0.25846\n",
      "20/20 [==============================] - 0s 4ms/step - loss: 0.8126 - accuracy: 0.2530\n",
      "Epoch 10/20\n",
      "15/20 [=====================>........] - ETA: 0s - loss: 0.8231 - accuracy: 0.2505WARNING:tensorflow:Early stopping conditioned on metric `test_accuracy` which is not available. Available metrics are: loss,accuracy\n",
      "\n",
      "Epoch 00010: accuracy did not improve from 0.25846\n",
      "20/20 [==============================] - 0s 4ms/step - loss: 0.8106 - accuracy: 0.2558\n",
      "Epoch 11/20\n",
      "15/20 [=====================>........] - ETA: 0s - loss: 0.8144 - accuracy: 0.2541WARNING:tensorflow:Early stopping conditioned on metric `test_accuracy` which is not available. Available metrics are: loss,accuracy\n",
      "\n",
      "Epoch 00011: accuracy did not improve from 0.25846\n",
      "20/20 [==============================] - 0s 4ms/step - loss: 0.8133 - accuracy: 0.2585\n",
      "Epoch 12/20\n",
      "14/20 [====================>.........] - ETA: 0s - loss: 0.8163 - accuracy: 0.2529WARNING:tensorflow:Early stopping conditioned on metric `test_accuracy` which is not available. Available metrics are: loss,accuracy\n",
      "\n",
      "Epoch 00012: accuracy did not improve from 0.25846\n",
      "20/20 [==============================] - 0s 4ms/step - loss: 0.8120 - accuracy: 0.2571\n",
      "Epoch 13/20\n",
      "14/20 [====================>.........] - ETA: 0s - loss: 0.8133 - accuracy: 0.2394WARNING:tensorflow:Early stopping conditioned on metric `test_accuracy` which is not available. Available metrics are: loss,accuracy\n",
      "\n",
      "Epoch 00013: accuracy did not improve from 0.25846\n",
      "20/20 [==============================] - 0s 4ms/step - loss: 0.8089 - accuracy: 0.2517\n",
      "Epoch 14/20\n",
      "13/20 [==================>...........] - ETA: 0s - loss: 0.8202 - accuracy: 0.2432WARNING:tensorflow:Early stopping conditioned on metric `test_accuracy` which is not available. Available metrics are: loss,accuracy\n",
      "\n",
      "Epoch 00014: accuracy did not improve from 0.25846\n",
      "20/20 [==============================] - 0s 4ms/step - loss: 0.8129 - accuracy: 0.2544\n",
      "Epoch 15/20\n",
      "14/20 [====================>.........] - ETA: 0s - loss: 0.8475 - accuracy: 0.2375WARNING:tensorflow:Early stopping conditioned on metric `test_accuracy` which is not available. Available metrics are: loss,accuracy\n",
      "\n",
      "Epoch 00015: accuracy did not improve from 0.25846\n",
      "20/20 [==============================] - 0s 4ms/step - loss: 0.8159 - accuracy: 0.2517\n",
      "Epoch 16/20\n",
      "13/20 [==================>...........] - ETA: 0s - loss: 0.8295 - accuracy: 0.2432WARNING:tensorflow:Early stopping conditioned on metric `test_accuracy` which is not available. Available metrics are: loss,accuracy\n",
      "\n",
      "Epoch 00016: accuracy did not improve from 0.25846\n",
      "20/20 [==============================] - 0s 4ms/step - loss: 0.8094 - accuracy: 0.2544\n",
      "Epoch 17/20\n",
      "14/20 [====================>.........] - ETA: 0s - loss: 0.8262 - accuracy: 0.2529WARNING:tensorflow:Early stopping conditioned on metric `test_accuracy` which is not available. Available metrics are: loss,accuracy\n",
      "\n",
      "Epoch 00017: accuracy did not improve from 0.25846\n",
      "20/20 [==============================] - 0s 4ms/step - loss: 0.8070 - accuracy: 0.2503\n",
      "Epoch 18/20\n",
      "15/20 [=====================>........] - ETA: 0s - loss: 0.8318 - accuracy: 0.2541WARNING:tensorflow:Early stopping conditioned on metric `test_accuracy` which is not available. Available metrics are: loss,accuracy\n",
      "\n",
      "Epoch 00018: accuracy did not improve from 0.25846\n",
      "20/20 [==============================] - 0s 4ms/step - loss: 0.8103 - accuracy: 0.2463\n",
      "Epoch 19/20\n",
      "15/20 [=====================>........] - ETA: 0s - loss: 0.7968 - accuracy: 0.2486WARNING:tensorflow:Early stopping conditioned on metric `test_accuracy` which is not available. Available metrics are: loss,accuracy\n",
      "\n",
      "Epoch 00019: accuracy did not improve from 0.25846\n",
      "20/20 [==============================] - 0s 4ms/step - loss: 0.8004 - accuracy: 0.2503\n",
      "Epoch 20/20\n",
      "14/20 [====================>.........] - ETA: 0s - loss: 0.7837 - accuracy: 0.2529WARNING:tensorflow:Early stopping conditioned on metric `test_accuracy` which is not available. Available metrics are: loss,accuracy\n",
      "\n",
      "Epoch 00020: accuracy did not improve from 0.25846\n",
      "20/20 [==============================] - 0s 4ms/step - loss: 0.8038 - accuracy: 0.2571\n"
     ]
    }
   ],
   "source": [
    "his = model.fit(X_train, y_train, steps_per_epoch = 20,  epochs = 20,  verbose = 1,  callbacks = cb, validation_steps = 16)"
   ]
  },
  {
   "cell_type": "code",
   "execution_count": 85,
   "metadata": {},
   "outputs": [
    {
     "name": "stdout",
     "output_type": "stream",
     "text": [
      "3/3 [==============================] - 0s 4ms/step - loss: -7.2868 - accuracy: 0.1687\n",
      "Test Loss: -7.28681755065918\n",
      "Test Accuracy: 0.16867469251155853\n"
     ]
    }
   ],
   "source": [
    "# Evaluate the model on the testing set\n",
    "loss, accuracy = model.evaluate(X_test, y_test)\n",
    "print('Test Loss:', loss)\n",
    "print('Test Accuracy:', accuracy)"
   ]
  },
  {
   "cell_type": "code",
   "execution_count": 65,
   "metadata": {},
   "outputs": [],
   "source": [
    "# Make predictions with the trained model\n",
    "predictions = model.predict(X_test)\n",
    "# Convert probabilities to binary predictions\n",
    "binary_predictions = np.round(predictions)"
   ]
  },
  {
   "cell_type": "code",
   "execution_count": 67,
   "metadata": {},
   "outputs": [
    {
     "name": "stderr",
     "output_type": "stream",
     "text": [
      "d:\\anaconda3\\envs\\tf2.4\\lib\\site-packages\\sklearn\\metrics\\_classification.py:1344: UndefinedMetricWarning: Precision is ill-defined and being set to 0.0 in labels with no predicted samples. Use `zero_division` parameter to control this behavior.\n",
      "  _warn_prf(average, modifier, msg_start, len(result))\n"
     ]
    }
   ],
   "source": [
    "# Calculate precision and recall\n",
    "precision = precision_score(y_test, binary_predictions, average='weighted')\n",
    "recall = recall_score(y_test, binary_predictions, average='weighted')"
   ]
  },
  {
   "cell_type": "code",
   "execution_count": 68,
   "metadata": {},
   "outputs": [
    {
     "name": "stdout",
     "output_type": "stream",
     "text": [
      "Precision: 0.05240238060676441\n",
      "Recall: 0.2289156626506024\n"
     ]
    }
   ],
   "source": [
    "print('Precision:', precision)\n",
    "print('Recall:', recall)"
   ]
  }
 ],
 "metadata": {
  "kernelspec": {
   "display_name": "tf2.4",
   "language": "python",
   "name": "python3"
  },
  "language_info": {
   "codemirror_mode": {
    "name": "ipython",
    "version": 3
   },
   "file_extension": ".py",
   "mimetype": "text/x-python",
   "name": "python",
   "nbconvert_exporter": "python",
   "pygments_lexer": "ipython3",
   "version": "3.8.0"
  },
  "orig_nbformat": 4
 },
 "nbformat": 4,
 "nbformat_minor": 2
}
