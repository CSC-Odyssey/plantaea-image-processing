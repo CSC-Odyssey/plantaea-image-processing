{
 "cells": [
  {
   "cell_type": "code",
   "execution_count": 1,
   "metadata": {},
   "outputs": [
    {
     "name": "stderr",
     "output_type": "stream",
     "text": [
      "<frozen importlib._bootstrap>:219: RuntimeWarning: scipy._lib.messagestream.MessageStream size changed, may indicate binary incompatibility. Expected 56 from C header, got 64 from PyObject\n"
     ]
    }
   ],
   "source": [
    "import pandas as pd\n",
    "import numpy as np\n",
    "\n",
    "from sklearn.model_selection import train_test_split\n",
    "from sklearn.svm import SVC\n",
    "from sklearn.metrics import accuracy_score, precision_score, recall_score\n",
    "from sklearn.model_selection import GridSearchCV\n",
    "from sklearn.model_selection import RandomizedSearchCV"
   ]
  },
  {
   "cell_type": "code",
   "execution_count": 2,
   "metadata": {},
   "outputs": [],
   "source": [
    "image = None\n",
    "texture = None\n",
    "file_path = '../../csv/features_data-Sheet1.csv'"
   ]
  },
  {
   "cell_type": "code",
   "execution_count": 3,
   "metadata": {},
   "outputs": [],
   "source": [
    "# Replace 'your_dataset.csv' with the actual filename of your dataset\n",
    "df = pd.read_csv(file_path)\n",
    "#   X = df[['length', 'width', 'diameter', 'area', 'perimeter', 'rectangularity', 'circularity',\n",
    "#           'ellipticity', 'aspect ratio', 'form factor', 'narrow factor', 'perimeter ratio of diameter',\n",
    "#           'perimeter Ratio of Physiological Length and Physiological Width', 'Texture']]\n",
    "#   y = df['Species']\n",
    "\n",
    "X = df[['circularity','ellipticity', 'form factor', \n",
    "        'narrow factor', 'perimeter ratio of diameter',\n",
    "        'perimeter Ratio of Physiological Length and Physiological Width']]\n",
    "y = df['Species']\n",
    "\n",
    "# X = df[['area', 'width', 'circularity', 'ellipticity', 'form factor', 'perimeter',\n",
    "#         'perimeter ratio of diameter', 'perimeter Ratio of Physiological Length and Physiological Width']]\n",
    "# y = df['Species']\n",
    "\n",
    "# Split the data into train and test sets\n",
    "X_train, X_test, y_train, y_test = train_test_split(X, y, test_size=0.1, random_state=42)"
   ]
  },
  {
   "attachments": {},
   "cell_type": "markdown",
   "metadata": {},
   "source": [
    "# FUNCTIONS FOR SVM MACHINE"
   ]
  },
  {
   "cell_type": "code",
   "execution_count": 6,
   "metadata": {},
   "outputs": [],
   "source": [
    "# Create a dataframe with the dependent and independent variables\n",
    "\n",
    "def metrics(y_test, y_pred):\n",
    "    # Evaluate the model on the test set\n",
    "    accuracy = accuracy_score(y_test, y_pred)\n",
    "    precision = precision_score(y_test, y_pred, average='weighted')\n",
    "    recall = recall_score(y_test, y_pred, average='weighted')\n",
    "\n",
    "    print('Accuracy:', accuracy)\n",
    "    print('Precision:', precision)\n",
    "    print('Recall:', recall)\n",
    "\n",
    "\n",
    "def train_svm(file_path):\n",
    "    # Define the SVM classifier\n",
    "    svm = SVC()\n",
    "\n",
    "    # Define the hyperparameter grid for tuning\n",
    "    param_dist = {\n",
    "        'C': np.logspace(-3, 3, 7),\n",
    "        'kernel': ['rbf'],\n",
    "        'gamma': np.logspace(-3, 3, 7)\n",
    "    }\n",
    "\n",
    "    # Define the hyperparameter grid for tuning\n",
    "    param_grid = {\n",
    "        'C': [0.1, 1, 10],\n",
    "        'kernel': ['rbf'],\n",
    "        'degree': [2, 3, 4],\n",
    "        'gamma': ['scale', 'auto'] + list(np.logspace(-3, 3, 7))\n",
    "    }\n",
    "\n",
    "    # Perform Grid Search Cross Validation\n",
    "    grid_search = GridSearchCV(svm, param_grid, cv=5)\n",
    "    grid_search.fit(X_train, y_train)\n",
    "    # Print the best hyperparameters and corresponding accuracy\n",
    "    print(\"Best Hyperparameters: \", grid_search.best_params_)\n",
    "    print(\"Best Accuracy: \", grid_search.best_score_)\n",
    "    # Train SVM with the best hyperparameters on the entire training set\n",
    "    best_svm = grid_search.best_estimator_\n",
    "\n",
    "    # # Create RandomizedSearchCV object\n",
    "    # random_search = RandomizedSearchCV(estimator=svm, param_distributions=param_dist, n_iter=10, scoring='accuracy', cv=5, random_state=42)\n",
    "    # random_search.fit(X_train, y_train)\n",
    "    # # Print the best hyperparameters and corresponding accuracy\n",
    "    # print(\"Best Hyperparameters: \", random_search.best_params_)\n",
    "    # print(\"Best Accuracy: \", random_search.best_score_ + '\\n')\n",
    "    # # Train SVM with the best hyperparameters on the entire training set\n",
    "    # best_svm = random_search.best_estimator_\n",
    "\n",
    "    best_svm.fit(X_train, y_train)\n",
    "\n",
    "    # Make predictions on the test data\n",
    "    y_pred = best_svm.predict(X_test)\n",
    "\n",
    "    metrics(y_test, y_pred)\n",
    "    \n",
    "\n",
    "    return best_svm"
   ]
  },
  {
   "cell_type": "code",
   "execution_count": 7,
   "metadata": {},
   "outputs": [
    {
     "name": "stdout",
     "output_type": "stream",
     "text": [
      "Best Hyperparameters:  {'C': 1, 'degree': 2, 'gamma': 'scale', 'kernel': 'rbf'}\n",
      "Best Accuracy:  0.5399430042287185\n",
      "Accuracy: 0.4939759036144578\n",
      "Precision: 0.42096501949828297\n",
      "Recall: 0.4939759036144578\n"
     ]
    },
    {
     "name": "stderr",
     "output_type": "stream",
     "text": [
      "d:\\anaconda3\\envs\\tf2.4\\lib\\site-packages\\sklearn\\metrics\\_classification.py:1344: UndefinedMetricWarning: Precision is ill-defined and being set to 0.0 in labels with no predicted samples. Use `zero_division` parameter to control this behavior.\n",
      "  _warn_prf(average, modifier, msg_start, len(result))\n"
     ]
    }
   ],
   "source": [
    "best_svm = train_svm(file_path)"
   ]
  },
  {
   "cell_type": "code",
   "execution_count": 19,
   "metadata": {},
   "outputs": [
    {
     "data": {
      "text/plain": [
       "['../../models/plant_prediction_model_svm.pkl']"
      ]
     },
     "execution_count": 19,
     "metadata": {},
     "output_type": "execute_result"
    }
   ],
   "source": [
    "import joblib\n",
    "\n",
    "# Save the best SVM model\n",
    "joblib.dump(best_svm, '../../models/plant_prediction_model_svm.pkl')"
   ]
  },
  {
   "cell_type": "code",
   "execution_count": 9,
   "metadata": {},
   "outputs": [
    {
     "name": "stdout",
     "output_type": "stream",
     "text": [
      "Accuracy: 0.7228915662650602\n",
      "Precision: 0.7296823658269441\n",
      "Recall: 0.7228915662650602\n"
     ]
    }
   ],
   "source": [
    "import joblib\n",
    "\n",
    "# Load the saved SVM model\n",
    "loaded_svm_model = joblib.load('../../models/plant_prediction_model_svm.pkl')\n",
    "\n",
    "# Make predictions on the test data\n",
    "y_pred = loaded_svm_model.predict(X_test)\n",
    "\n",
    "# Evaluate the model on the test set\n",
    "metrics(y_test, y_pred)"
   ]
  },
  {
   "cell_type": "code",
   "execution_count": 11,
   "metadata": {},
   "outputs": [
    {
     "name": "stdout",
     "output_type": "stream",
     "text": [
      "Predicted Class Labels:  [0.]\n"
     ]
    },
    {
     "name": "stderr",
     "output_type": "stream",
     "text": [
      "d:\\anaconda3\\envs\\tf2.4\\lib\\site-packages\\sklearn\\base.py:409: UserWarning: X does not have valid feature names, but SVC was fitted with feature names\n",
      "  warnings.warn(\n"
     ]
    }
   ],
   "source": [
    "# Input new data for prediction\n",
    "new_data = np.array([[0.6420904344085511,2.040016228764243,1.9064039408866995,0.6420904344085511,0.9853075604106104,2.69546972135897,1.7420684933662414]])  # Replace this with your new data\n",
    "\n",
    "# Make predictions\n",
    "predictions = loaded_svm_model.predict(new_data)\n",
    "\n",
    "# Print the predicted class labels\n",
    "print(\"Predicted Class Labels: \", predictions)\n"
   ]
  }
 ],
 "metadata": {
  "kernelspec": {
   "display_name": "tf2.4",
   "language": "python",
   "name": "python3"
  },
  "language_info": {
   "codemirror_mode": {
    "name": "ipython",
    "version": 3
   },
   "file_extension": ".py",
   "mimetype": "text/x-python",
   "name": "python",
   "nbconvert_exporter": "python",
   "pygments_lexer": "ipython3",
   "version": "3.8.0"
  },
  "orig_nbformat": 4,
  "vscode": {
   "interpreter": {
    "hash": "94ec6b5870b0fc86172bec494363d8aeea7331a0523a538898b760fc8eaf6e79"
   }
  }
 },
 "nbformat": 4,
 "nbformat_minor": 2
}
