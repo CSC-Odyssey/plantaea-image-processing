{
 "cells": [
  {
   "cell_type": "code",
   "execution_count": 30,
   "metadata": {},
   "outputs": [],
   "source": [
    "import pandas as pd\n",
    "import numpy as np\n",
    "\n",
    "from sklearn.model_selection import train_test_split\n",
    "from sklearn.svm import SVC\n",
    "from sklearn.metrics import accuracy_score, precision_score, recall_score\n",
    "from sklearn.model_selection import GridSearchCV\n",
    "from sklearn.model_selection import RandomizedSearchCV"
   ]
  },
  {
   "cell_type": "code",
   "execution_count": 31,
   "metadata": {},
   "outputs": [],
   "source": [
    "# Replace 'your_dataset.csv' with the actual filename of your dataset\n",
    "df = pd.read_csv(file_path)\n",
    "#   X = df[['length', 'width', 'diameter', 'area', 'perimeter', 'rectangularity', 'circularity',\n",
    "#           'ellipticity', 'aspect ratio', 'form factor', 'narrow factor', 'perimeter ratio of diameter',\n",
    "#           'perimeter Ratio of Physiological Length and Physiological Width', 'Texture']]\n",
    "#   y = df['Species']\n",
    "\n",
    "X = df[['circularity','ellipticity', 'aspect ratio', 'form factor', \n",
    "        'narrow factor', 'perimeter ratio of diameter',\n",
    "        'perimeter Ratio of Physiological Length and Physiological Width']]\n",
    "y = df['Species']\n",
    "\n",
    "# Split the data into train and test sets\n",
    "X_train, X_test, y_train, y_test = train_test_split(X, y, test_size=0.1, random_state=42)"
   ]
  },
  {
   "attachments": {},
   "cell_type": "markdown",
   "metadata": {},
   "source": [
    "# FUNCTIONS FOR SVM MACHINE"
   ]
  },
  {
   "cell_type": "code",
   "execution_count": 39,
   "metadata": {},
   "outputs": [],
   "source": [
    "# Create a dataframe with the dependent and independent variables\n",
    "\n",
    "def metrics(y_test, y_pred):\n",
    "    # Evaluate the model on the test set\n",
    "    accuracy = accuracy_score(y_test, y_pred)\n",
    "    precision = precision_score(y_test, y_pred, average='weighted')\n",
    "    recall = recall_score(y_test, y_pred, average='weighted')\n",
    "\n",
    "    print('Accuracy:', accuracy)\n",
    "    print('Precision:', precision)\n",
    "    print('Recall:', recall)\n",
    "\n",
    "\n",
    "def train_svm(file_path):\n",
    "    # Define the SVM classifier\n",
    "    svm = SVC()\n",
    "\n",
    "    # Define the hyperparameter grid for tuning\n",
    "    param_dist = {\n",
    "        'C': np.logspace(-3, 3, 7),\n",
    "        'kernel': ['rbf'],\n",
    "        'gamma': np.logspace(-3, 3, 7)\n",
    "    }\n",
    "\n",
    "    # Define the hyperparameter grid for tuning\n",
    "    param_grid = {\n",
    "        'C': [0.1, 1, 10],\n",
    "        'kernel': ['rbf', 'linear'],\n",
    "        'degree': [2, 3, 4],\n",
    "        'gamma': ['scale', 'auto'] + list(np.logspace(-3, 3, 7))\n",
    "    }\n",
    "\n",
    "    # Perform Grid Search Cross Validation\n",
    "    grid_search = GridSearchCV(svm, param_grid, cv=5)\n",
    "    grid_search.fit(X_train, y_train)\n",
    "    # Print the best hyperparameters and corresponding accuracy\n",
    "    print(\"Best Hyperparameters: \", grid_search.best_params_)\n",
    "    print(\"Best Accuracy: \", grid_search.best_score_)\n",
    "    # Train SVM with the best hyperparameters on the entire training set\n",
    "    best_svm = grid_search.best_estimator_\n",
    "\n",
    "    # # Create RandomizedSearchCV object\n",
    "    # random_search = RandomizedSearchCV(estimator=svm, param_distributions=param_dist, n_iter=10, scoring='accuracy', cv=5, random_state=42)\n",
    "    # random_search.fit(X_train, y_train)\n",
    "    # # Print the best hyperparameters and corresponding accuracy\n",
    "    # print(\"Best Hyperparameters: \", random_search.best_params_)\n",
    "    # print(\"Best Accuracy: \", random_search.best_score_ + '\\n')\n",
    "    # # Train SVM with the best hyperparameters on the entire training set\n",
    "    # best_svm = random_search.best_estimator_\n",
    "\n",
    "    best_svm.fit(X_train, y_train)\n",
    "\n",
    "    # Make predictions on the test data\n",
    "    y_pred = best_svm.predict(X_test)\n",
    "\n",
    "    metrics(y_test, y_pred)\n",
    "    \n",
    "\n",
    "    return best_svm"
   ]
  },
  {
   "cell_type": "code",
   "execution_count": 40,
   "metadata": {},
   "outputs": [
    {
     "name": "stdout",
     "output_type": "stream",
     "text": [
      "Best Hyperparameters:  {'C': 10, 'degree': 2, 'gamma': 10.0, 'kernel': 'rbf'}\n",
      "Best Accuracy:  0.6860820003677147\n",
      "Accuracy: 0.7228915662650602\n",
      "Precision: 0.7296823658269441\n",
      "Recall: 0.7228915662650602\n"
     ]
    }
   ],
   "source": [
    "image = None\n",
    "texture = None\n",
    "file_path = '../../csv/features_data-Sheet1.csv'\n",
    "\n",
    "best_svm = train_svm(file_path)"
   ]
  },
  {
   "cell_type": "code",
   "execution_count": 19,
   "metadata": {},
   "outputs": [
    {
     "data": {
      "text/plain": [
       "['../../models/plant_prediction_model_svm.pkl']"
      ]
     },
     "execution_count": 19,
     "metadata": {},
     "output_type": "execute_result"
    }
   ],
   "source": [
    "import joblib\n",
    "\n",
    "# Save the best SVM model\n",
    "joblib.dump(best_svm, '../../models/plant_prediction_model_svm.pkl')"
   ]
  },
  {
   "cell_type": "code",
   "execution_count": 25,
   "metadata": {},
   "outputs": [
    {
     "name": "stdout",
     "output_type": "stream",
     "text": [
      "Accuracy: 0.7228915662650602\n",
      "Precision: 0.7296823658269441\n",
      "Recall: 0.7228915662650602\n"
     ]
    }
   ],
   "source": [
    "# Load the saved SVM model\n",
    "loaded_svm_model = joblib.load('../../models/plant_prediction_model_svm.pkl')\n",
    "\n",
    "# Make predictions on the test data\n",
    "y_pred = loaded_svm_model.predict(X_test)\n",
    "\n",
    "# Evaluate the model on the test set\n",
    "metrics(y_test, y_pred)"
   ]
  }
 ],
 "metadata": {
  "kernelspec": {
   "display_name": "tf2.4",
   "language": "python",
   "name": "python3"
  },
  "language_info": {
   "codemirror_mode": {
    "name": "ipython",
    "version": 3
   },
   "file_extension": ".py",
   "mimetype": "text/x-python",
   "name": "python",
   "nbconvert_exporter": "python",
   "pygments_lexer": "ipython3",
   "version": "3.8.0"
  },
  "orig_nbformat": 4,
  "vscode": {
   "interpreter": {
    "hash": "94ec6b5870b0fc86172bec494363d8aeea7331a0523a538898b760fc8eaf6e79"
   }
  }
 },
 "nbformat": 4,
 "nbformat_minor": 2
}
