{
 "cells": [
  {
   "attachments": {},
   "cell_type": "markdown",
   "metadata": {},
   "source": [
    "# Preprocessing-Slight"
   ]
  },
  {
   "cell_type": "code",
   "execution_count": 92,
   "metadata": {},
   "outputs": [
    {
     "data": {
      "text/html": [
       "<div>\n",
       "<style scoped>\n",
       "    .dataframe tbody tr th:only-of-type {\n",
       "        vertical-align: middle;\n",
       "    }\n",
       "\n",
       "    .dataframe tbody tr th {\n",
       "        vertical-align: top;\n",
       "    }\n",
       "\n",
       "    .dataframe thead th {\n",
       "        text-align: right;\n",
       "    }\n",
       "</style>\n",
       "<table border=\"1\" class=\"dataframe\">\n",
       "  <thead>\n",
       "    <tr style=\"text-align: right;\">\n",
       "      <th></th>\n",
       "      <th>Unnamed: 0</th>\n",
       "      <th>contours</th>\n",
       "      <th>area_hist_values</th>\n",
       "      <th>int_hist_values</th>\n",
       "      <th>plant</th>\n",
       "    </tr>\n",
       "  </thead>\n",
       "  <tbody>\n",
       "    <tr>\n",
       "      <th>0</th>\n",
       "      <td>0</td>\n",
       "      <td>[[[[144, 110]], [[143, 111]], [[142, 111]], [[...</td>\n",
       "      <td>[0.0, 0.0, 0.0, 0.0, 0.0, 0.0, 0.0, 0.0, 0.0, ...</td>\n",
       "      <td>[20.0, 22.0, 51.0, 41.0, 46.0, 35.0, 29.0, 25....</td>\n",
       "      <td>acer_campestre</td>\n",
       "    </tr>\n",
       "    <tr>\n",
       "      <th>1</th>\n",
       "      <td>1</td>\n",
       "      <td>[[[[158, 107]], [[157, 108]], [[156, 108]], [[...</td>\n",
       "      <td>[0.0, 0.0, 0.0, 0.0, 0.0, 0.0, 0.0, 0.0, 0.0, ...</td>\n",
       "      <td>[21.0, 31.0, 59.0, 52.0, 40.0, 41.0, 24.0, 21....</td>\n",
       "      <td>acer_campestre</td>\n",
       "    </tr>\n",
       "    <tr>\n",
       "      <th>2</th>\n",
       "      <td>2</td>\n",
       "      <td>[[[[142, 86]], [[141, 87]], [[140, 87]], [[139...</td>\n",
       "      <td>[0.0, 0.0, 0.0, 0.0, 0.0, 0.0, 0.0, 0.0, 0.0, ...</td>\n",
       "      <td>[7.0, 23.0, 54.0, 34.0, 49.0, 33.0, 30.0, 24.0...</td>\n",
       "      <td>acer_campestre</td>\n",
       "    </tr>\n",
       "    <tr>\n",
       "      <th>3</th>\n",
       "      <td>3</td>\n",
       "      <td>[[[[162, 85]], [[161, 86]], [[160, 86]], [[159...</td>\n",
       "      <td>[0.0, 0.0, 0.0, 0.0, 0.0, 0.0, 0.0, 0.0, 0.0, ...</td>\n",
       "      <td>[22.0, 34.0, 54.0, 48.0, 46.0, 40.0, 24.0, 8.0...</td>\n",
       "      <td>acer_campestre</td>\n",
       "    </tr>\n",
       "    <tr>\n",
       "      <th>4</th>\n",
       "      <td>4</td>\n",
       "      <td>[[[[185, 100]], [[184, 101]], [[183, 101]], [[...</td>\n",
       "      <td>[0.0, 0.0, 0.0, 0.0, 0.0, 0.0, 0.0, 0.0, 0.0, ...</td>\n",
       "      <td>[3.0, 15.0, 27.0, 45.0, 40.0, 40.0, 34.0, 18.0...</td>\n",
       "      <td>acer_campestre</td>\n",
       "    </tr>\n",
       "    <tr>\n",
       "      <th>...</th>\n",
       "      <td>...</td>\n",
       "      <td>...</td>\n",
       "      <td>...</td>\n",
       "      <td>...</td>\n",
       "      <td>...</td>\n",
       "    </tr>\n",
       "    <tr>\n",
       "      <th>13516</th>\n",
       "      <td>13516</td>\n",
       "      <td>[[[[54, 74]], [[53, 75]], [[52, 75]], [[51, 76...</td>\n",
       "      <td>[0.0, 0.0, 0.0, 0.0, 0.0, 0.0, 0.0, 0.0, 18.0,...</td>\n",
       "      <td>[39.0, 64.0, 69.0, 89.0, 57.0, 52.0, 17.0, 2.0...</td>\n",
       "      <td>quercus_robur</td>\n",
       "    </tr>\n",
       "    <tr>\n",
       "      <th>13517</th>\n",
       "      <td>13517</td>\n",
       "      <td>[[[[115, 78]], [[114, 79]], [[113, 79]], [[112...</td>\n",
       "      <td>[0.0, 0.0, 0.0, 0.0, 0.0, 0.0, 0.0, 1.0, 11.0,...</td>\n",
       "      <td>[28.0, 68.0, 48.0, 69.0, 68.0, 54.0, 14.0, 3.0...</td>\n",
       "      <td>quercus_robur</td>\n",
       "    </tr>\n",
       "    <tr>\n",
       "      <th>13518</th>\n",
       "      <td>13518</td>\n",
       "      <td>[[[[94, 101]], [[93, 102]], [[92, 103]], [[91,...</td>\n",
       "      <td>[0.0, 0.0, 0.0, 0.0, 0.0, 0.0, 0.0, 1.0, 16.0,...</td>\n",
       "      <td>[22.0, 53.0, 69.0, 75.0, 50.0, 42.0, 17.0, 11....</td>\n",
       "      <td>quercus_robur</td>\n",
       "    </tr>\n",
       "    <tr>\n",
       "      <th>13519</th>\n",
       "      <td>13519</td>\n",
       "      <td>[[[[116, 79]], [[115, 80]], [[114, 81]], [[113...</td>\n",
       "      <td>[0.0, 0.0, 0.0, 0.0, 0.0, 0.0, 0.0, 2.0, 23.0,...</td>\n",
       "      <td>[34.0, 84.0, 62.0, 59.0, 58.0, 51.0, 15.0, 5.0...</td>\n",
       "      <td>quercus_robur</td>\n",
       "    </tr>\n",
       "    <tr>\n",
       "      <th>13520</th>\n",
       "      <td>13520</td>\n",
       "      <td>[[[[99, 66]], [[98, 67]], [[97, 67]], [[96, 68...</td>\n",
       "      <td>[0.0, 0.0, 0.0, 0.0, 0.0, 0.0, 0.0, 5.0, 20.0,...</td>\n",
       "      <td>[24.0, 83.0, 66.0, 60.0, 54.0, 60.0, 19.0, 6.0...</td>\n",
       "      <td>quercus_robur</td>\n",
       "    </tr>\n",
       "  </tbody>\n",
       "</table>\n",
       "<p>13521 rows × 5 columns</p>\n",
       "</div>"
      ],
      "text/plain": [
       "       Unnamed: 0                                           contours  \\\n",
       "0               0  [[[[144, 110]], [[143, 111]], [[142, 111]], [[...   \n",
       "1               1  [[[[158, 107]], [[157, 108]], [[156, 108]], [[...   \n",
       "2               2  [[[[142, 86]], [[141, 87]], [[140, 87]], [[139...   \n",
       "3               3  [[[[162, 85]], [[161, 86]], [[160, 86]], [[159...   \n",
       "4               4  [[[[185, 100]], [[184, 101]], [[183, 101]], [[...   \n",
       "...           ...                                                ...   \n",
       "13516       13516  [[[[54, 74]], [[53, 75]], [[52, 75]], [[51, 76...   \n",
       "13517       13517  [[[[115, 78]], [[114, 79]], [[113, 79]], [[112...   \n",
       "13518       13518  [[[[94, 101]], [[93, 102]], [[92, 103]], [[91,...   \n",
       "13519       13519  [[[[116, 79]], [[115, 80]], [[114, 81]], [[113...   \n",
       "13520       13520  [[[[99, 66]], [[98, 67]], [[97, 67]], [[96, 68...   \n",
       "\n",
       "                                        area_hist_values  \\\n",
       "0      [0.0, 0.0, 0.0, 0.0, 0.0, 0.0, 0.0, 0.0, 0.0, ...   \n",
       "1      [0.0, 0.0, 0.0, 0.0, 0.0, 0.0, 0.0, 0.0, 0.0, ...   \n",
       "2      [0.0, 0.0, 0.0, 0.0, 0.0, 0.0, 0.0, 0.0, 0.0, ...   \n",
       "3      [0.0, 0.0, 0.0, 0.0, 0.0, 0.0, 0.0, 0.0, 0.0, ...   \n",
       "4      [0.0, 0.0, 0.0, 0.0, 0.0, 0.0, 0.0, 0.0, 0.0, ...   \n",
       "...                                                  ...   \n",
       "13516  [0.0, 0.0, 0.0, 0.0, 0.0, 0.0, 0.0, 0.0, 18.0,...   \n",
       "13517  [0.0, 0.0, 0.0, 0.0, 0.0, 0.0, 0.0, 1.0, 11.0,...   \n",
       "13518  [0.0, 0.0, 0.0, 0.0, 0.0, 0.0, 0.0, 1.0, 16.0,...   \n",
       "13519  [0.0, 0.0, 0.0, 0.0, 0.0, 0.0, 0.0, 2.0, 23.0,...   \n",
       "13520  [0.0, 0.0, 0.0, 0.0, 0.0, 0.0, 0.0, 5.0, 20.0,...   \n",
       "\n",
       "                                         int_hist_values           plant  \n",
       "0      [20.0, 22.0, 51.0, 41.0, 46.0, 35.0, 29.0, 25....  acer_campestre  \n",
       "1      [21.0, 31.0, 59.0, 52.0, 40.0, 41.0, 24.0, 21....  acer_campestre  \n",
       "2      [7.0, 23.0, 54.0, 34.0, 49.0, 33.0, 30.0, 24.0...  acer_campestre  \n",
       "3      [22.0, 34.0, 54.0, 48.0, 46.0, 40.0, 24.0, 8.0...  acer_campestre  \n",
       "4      [3.0, 15.0, 27.0, 45.0, 40.0, 40.0, 34.0, 18.0...  acer_campestre  \n",
       "...                                                  ...             ...  \n",
       "13516  [39.0, 64.0, 69.0, 89.0, 57.0, 52.0, 17.0, 2.0...   quercus_robur  \n",
       "13517  [28.0, 68.0, 48.0, 69.0, 68.0, 54.0, 14.0, 3.0...   quercus_robur  \n",
       "13518  [22.0, 53.0, 69.0, 75.0, 50.0, 42.0, 17.0, 11....   quercus_robur  \n",
       "13519  [34.0, 84.0, 62.0, 59.0, 58.0, 51.0, 15.0, 5.0...   quercus_robur  \n",
       "13520  [24.0, 83.0, 66.0, 60.0, 54.0, 60.0, 19.0, 6.0...   quercus_robur  \n",
       "\n",
       "[13521 rows x 5 columns]"
      ]
     },
     "execution_count": 92,
     "metadata": {},
     "output_type": "execute_result"
    }
   ],
   "source": [
    "import pandas as pd\n",
    "import numpy as np\n",
    "import ast\n",
    "\n",
    "lab = pd.read_csv(\"../csv/validated_lab/validated_lab2.csv\")\n",
    "lab = lab.reset_index(drop=True)\n",
    "lab"
   ]
  },
  {
   "cell_type": "code",
   "execution_count": 110,
   "metadata": {},
   "outputs": [],
   "source": [
    "lab_int = [ast.literal_eval(d) for d in lab['int_hist_values']]\n",
    "lab = pd.DataFrame({'int_hist_values' : lab_int, 'plant' : lab['plant']})"
   ]
  },
  {
   "cell_type": "code",
   "execution_count": 111,
   "metadata": {},
   "outputs": [
    {
     "data": {
      "text/html": [
       "<div>\n",
       "<style scoped>\n",
       "    .dataframe tbody tr th:only-of-type {\n",
       "        vertical-align: middle;\n",
       "    }\n",
       "\n",
       "    .dataframe tbody tr th {\n",
       "        vertical-align: top;\n",
       "    }\n",
       "\n",
       "    .dataframe thead th {\n",
       "        text-align: right;\n",
       "    }\n",
       "</style>\n",
       "<table border=\"1\" class=\"dataframe\">\n",
       "  <thead>\n",
       "    <tr style=\"text-align: right;\">\n",
       "      <th></th>\n",
       "      <th>int_hist_values</th>\n",
       "      <th>plant</th>\n",
       "    </tr>\n",
       "  </thead>\n",
       "  <tbody>\n",
       "    <tr>\n",
       "      <th>0</th>\n",
       "      <td>[20.0, 22.0, 51.0, 41.0, 46.0, 35.0, 29.0, 25....</td>\n",
       "      <td>acer_campestre</td>\n",
       "    </tr>\n",
       "    <tr>\n",
       "      <th>1</th>\n",
       "      <td>[21.0, 31.0, 59.0, 52.0, 40.0, 41.0, 24.0, 21....</td>\n",
       "      <td>acer_campestre</td>\n",
       "    </tr>\n",
       "    <tr>\n",
       "      <th>2</th>\n",
       "      <td>[7.0, 23.0, 54.0, 34.0, 49.0, 33.0, 30.0, 24.0...</td>\n",
       "      <td>acer_campestre</td>\n",
       "    </tr>\n",
       "    <tr>\n",
       "      <th>3</th>\n",
       "      <td>[22.0, 34.0, 54.0, 48.0, 46.0, 40.0, 24.0, 8.0...</td>\n",
       "      <td>acer_campestre</td>\n",
       "    </tr>\n",
       "    <tr>\n",
       "      <th>4</th>\n",
       "      <td>[3.0, 15.0, 27.0, 45.0, 40.0, 40.0, 34.0, 18.0...</td>\n",
       "      <td>acer_campestre</td>\n",
       "    </tr>\n",
       "    <tr>\n",
       "      <th>...</th>\n",
       "      <td>...</td>\n",
       "      <td>...</td>\n",
       "    </tr>\n",
       "    <tr>\n",
       "      <th>13516</th>\n",
       "      <td>[39.0, 64.0, 69.0, 89.0, 57.0, 52.0, 17.0, 2.0...</td>\n",
       "      <td>quercus_robur</td>\n",
       "    </tr>\n",
       "    <tr>\n",
       "      <th>13517</th>\n",
       "      <td>[28.0, 68.0, 48.0, 69.0, 68.0, 54.0, 14.0, 3.0...</td>\n",
       "      <td>quercus_robur</td>\n",
       "    </tr>\n",
       "    <tr>\n",
       "      <th>13518</th>\n",
       "      <td>[22.0, 53.0, 69.0, 75.0, 50.0, 42.0, 17.0, 11....</td>\n",
       "      <td>quercus_robur</td>\n",
       "    </tr>\n",
       "    <tr>\n",
       "      <th>13519</th>\n",
       "      <td>[34.0, 84.0, 62.0, 59.0, 58.0, 51.0, 15.0, 5.0...</td>\n",
       "      <td>quercus_robur</td>\n",
       "    </tr>\n",
       "    <tr>\n",
       "      <th>13520</th>\n",
       "      <td>[24.0, 83.0, 66.0, 60.0, 54.0, 60.0, 19.0, 6.0...</td>\n",
       "      <td>quercus_robur</td>\n",
       "    </tr>\n",
       "  </tbody>\n",
       "</table>\n",
       "<p>13521 rows × 2 columns</p>\n",
       "</div>"
      ],
      "text/plain": [
       "                                         int_hist_values           plant\n",
       "0      [20.0, 22.0, 51.0, 41.0, 46.0, 35.0, 29.0, 25....  acer_campestre\n",
       "1      [21.0, 31.0, 59.0, 52.0, 40.0, 41.0, 24.0, 21....  acer_campestre\n",
       "2      [7.0, 23.0, 54.0, 34.0, 49.0, 33.0, 30.0, 24.0...  acer_campestre\n",
       "3      [22.0, 34.0, 54.0, 48.0, 46.0, 40.0, 24.0, 8.0...  acer_campestre\n",
       "4      [3.0, 15.0, 27.0, 45.0, 40.0, 40.0, 34.0, 18.0...  acer_campestre\n",
       "...                                                  ...             ...\n",
       "13516  [39.0, 64.0, 69.0, 89.0, 57.0, 52.0, 17.0, 2.0...   quercus_robur\n",
       "13517  [28.0, 68.0, 48.0, 69.0, 68.0, 54.0, 14.0, 3.0...   quercus_robur\n",
       "13518  [22.0, 53.0, 69.0, 75.0, 50.0, 42.0, 17.0, 11....   quercus_robur\n",
       "13519  [34.0, 84.0, 62.0, 59.0, 58.0, 51.0, 15.0, 5.0...   quercus_robur\n",
       "13520  [24.0, 83.0, 66.0, 60.0, 54.0, 60.0, 19.0, 6.0...   quercus_robur\n",
       "\n",
       "[13521 rows x 2 columns]"
      ]
     },
     "execution_count": 111,
     "metadata": {},
     "output_type": "execute_result"
    }
   ],
   "source": [
    "lab"
   ]
  },
  {
   "cell_type": "code",
   "execution_count": 113,
   "metadata": {},
   "outputs": [
    {
     "name": "stdout",
     "output_type": "stream",
     "text": [
      "525\n"
     ]
    }
   ],
   "source": [
    "test = np.array(lab['int_hist_values'][2])\n",
    "print(len(test))"
   ]
  },
  {
   "attachments": {},
   "cell_type": "markdown",
   "metadata": {},
   "source": [
    "# Nearest Neighbors - Training"
   ]
  },
  {
   "cell_type": "code",
   "execution_count": 114,
   "metadata": {},
   "outputs": [],
   "source": [
    "from sklearn.neighbors import KNeighborsClassifier\n",
    "from sklearn.model_selection import train_test_split\n",
    "from sklearn.metrics import accuracy_score\n",
    "from sklearn.preprocessing import StandardScaler\n",
    "from sklearn.neighbors import NearestNeighbors\n",
    "from sklearn.neighbors import KNeighborsClassifier\n",
    "from sklearn.metrics import classification_report"
   ]
  },
  {
   "cell_type": "code",
   "execution_count": 176,
   "metadata": {},
   "outputs": [
    {
     "data": {
      "text/plain": [
       "NearestNeighbors(algorithm='brute', metric='cosine', n_neighbors=15)"
      ]
     },
     "execution_count": 176,
     "metadata": {},
     "output_type": "execute_result"
    }
   ],
   "source": [
    "from sklearn.neighbors import NearestNeighbors\n",
    "import numpy as np\n",
    "\n",
    "# Create a nearest neighbors object with n_neighbors set to 25\n",
    "nbrs = NearestNeighbors(n_neighbors=15, algorithm='brute', metric='cosine').fit(lab_int)\n",
    "nbrs"
   ]
  },
  {
   "cell_type": "code",
   "execution_count": 178,
   "metadata": {},
   "outputs": [],
   "source": [
    "input_hist = \"[19.  53.  57.  45.  38.  31.  12.   6.   2.   0.   0.   0.   1.   1.  0.   0.   0.   2.   0.   1.   0.  57. 100.  49.  29.   9.   5.   1.  1.   2.   5.   3.   1.   2.   3.   0.   1.   0.   0.   0.   0.   0. 72.  88.  57.  15.   4.   3.   3.   0.   0.   3.   0.   4.   4.   2.  2.   2.   4.   2.   1.   2.   0. 101.  93.  28.   4.   3.   6.   7.  3.   5.   3.   3.   4.   3.   1.   1.   0.   2.   1.   0.   0.   0. 86. 114.  10.   1.   1.   2.   4.   6.   7.   2.   3.   5.   7.   2. 10.   5.   2.   1.   0.   0.   0.  92.  94.  11.   0.   2.   3.   2.  4.   3.   5.   3.   3.   6.   5.   6.  12.   8.   3.   4.   2.   0. 95.  82.  13.   0.   1.   2.   1.   3.  10.   3.   8.   8.   5.   4. 11.  10.   4.   4.   3.   1.   0.  99.  80.   0.   2.   0.   0.   0.  1.   1.   1.   4.   7.  21.  14.  10.  18.   7.   3.   0.   0.   0. 88.  82.   0.   0.   2.   0.   0.   0.   7.   7.   5.   1.   6.  10. 24.  23.   8.   3.   1.   1.   0.  75.  84.   2.   0.   1.   0.   1.  1.   0.   5.   4.   8.   7.   5.  15.  22.  11.   7.  11.   9.   0. 40.  89.   7.   0.   2.   0.   1.   3.   3.   6.  12.  15.   9.   6. 28.  22.  11.   5.   5.   3.   1.  14. 105.   7.   1.   1.   0.   1.  6.  14.  13.   8.  12.  11.  11.  12.  15.  15.  15.   3.   2.   2. 14.  72.  12.   2.   1.   5.   2.   4.  20.  19.  11.  12.  14.   7. 13.   8.   9.   6.  24.  12.   1.   1.  50.  24.  12.   3.  11.  17. 10.  11.  15.  34.  28.   9.   7.   9.   6.   4.   5.   5.   3.   4.  0.   6.  22.  31.  13.  24.  15.  21.  24.  27.  28.  18.  23.   8.  2.   2.   3.   1.   0.   0.   0.   0.   0.   0.   0.   0.  95.  27. 26.  36.  14.  22.   9.   5.  11.   2.   8.   9.   3.   1.   0.   0.  0.   0.   0.   0.   0.   0.   0.   0.   0.   0.   0.   0. 249.   5.  8.   1.   0.   2.   1.   2.   0.   0.   0.   0.   0.   0.   0.   0.  0.   0.   0.   0.   0.   0.   0.   0.   0.   0.   0.   0.   0. 268.  0.   0.   0.   0.   0.   0.   0.   0.   0.   0.   0.   0.   0.   0.  0.   0.   0.   0.   0.   0. 268.   0.   0.   0.   0.   0.   0.   0.  0.   0.   0.   0.   0.   0.   0.   0.   0.   0.   0.   0.   0. 268.  0.   0.   0.   0.   0.   0.   0.   0.   0.   0.   0.   0.   0.   0.  0.   0.   0.   0.   0.   0. 268.   0.   0.   0.   0.   0.   0.   0.  0.   0.   0.   0.   0.   0.   0.   0.   0.   0.   0.   0.   0. 268.  0.   0.   0.   0.   0.   0.   0.   0.   0.   0.   0.   0.   0.   0.  0.   0.   0.   0.   0.   0. 268.   0.   0.   0.   0.   0.   0.   0.  0.   0.   0.   0.   0.   0.   0.   0.   0.   0.   0.   0.   0. 268.  0.   0.   0.   0.   0.   0.   0.   0.   0.   0.   0.   0.   0.   0.  0.   0.   0.   0.   0.   0. 268.]\"\n",
    "input_hist = input_hist.replace(\".\", \".0,\")\n",
    "input_hist = ast.literal_eval(input_hist)\n",
    "input_hist = np.array([input_hist])\n",
    "query = input_hist.reshape(1, -1)"
   ]
  },
  {
   "cell_type": "code",
   "execution_count": 179,
   "metadata": {},
   "outputs": [],
   "source": [
    "# Perform the nearest neighbors search\n",
    "distances, indices = nbrs.kneighbors(query)"
   ]
  },
  {
   "cell_type": "code",
   "execution_count": 186,
   "metadata": {},
   "outputs": [
    {
     "name": "stdout",
     "output_type": "stream",
     "text": [
      "Match 0 Species: acer_campestre Distance: 1.1102230246251565e-16\n",
      "Match 1 Species: liriodendron_tulipifera Distance: 0.04503782024879788\n",
      "Match 2 Species: acer_campestre Distance: 0.047309823006039586\n",
      "Match 3 Species: cercis_canadensis Distance: 0.04851513996352297\n",
      "Match 4 Species: cercis_canadensis Distance: 0.050423418619843785\n",
      "Match 5 Species: acer_pensylvanicum Distance: 0.06353159098330186\n",
      "Match 6 Species: betula_jacqemontii Distance: 0.07030592765242549\n",
      "Match 7 Species: cercis_canadensis Distance: 0.07261151026631041\n",
      "Match 8 Species: acer_campestre Distance: 0.07380442161514911\n",
      "Match 9 Species: acer_saccharum Distance: 0.08063830229877533\n",
      "Match 10 Species: acer_ginnala Distance: 0.08178600993039764\n",
      "Match 11 Species: acer_campestre Distance: 0.08220900850347568\n",
      "Match 12 Species: acer_pseudoplatanus Distance: 0.08333872667939213\n",
      "Match 13 Species: acer_campestre Distance: 0.08495407190880877\n",
      "Match 14 Species: acer_campestre Distance: 0.0864264546049438\n"
     ]
    }
   ],
   "source": [
    "import matplotlib.pyplot as plt\n",
    "from PIL import Image\n",
    "\n",
    "# Show the top n matches to the user\n",
    "for i in range(len(indices[0])):\n",
    "    index = indices[0][i]\n",
    "    distance = distances[0][i]\n",
    "\n",
    "    print(f\"Match {i} Species: {lab['plant'][index]} Distance: {distance}\")"
   ]
  }
 ],
 "metadata": {
  "kernelspec": {
   "display_name": "tf2.4",
   "language": "python",
   "name": "python3"
  },
  "language_info": {
   "codemirror_mode": {
    "name": "ipython",
    "version": 3
   },
   "file_extension": ".py",
   "mimetype": "text/x-python",
   "name": "python",
   "nbconvert_exporter": "python",
   "pygments_lexer": "ipython3",
   "version": "3.7.16"
  },
  "orig_nbformat": 4
 },
 "nbformat": 4,
 "nbformat_minor": 2
}
