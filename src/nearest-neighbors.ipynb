{
 "cells": [
  {
   "attachments": {},
   "cell_type": "markdown",
   "metadata": {},
   "source": [
    "# Preprocessing-Slight"
   ]
  },
  {
   "cell_type": "code",
   "execution_count": 64,
   "metadata": {},
   "outputs": [
    {
     "data": {
      "text/html": [
       "<div>\n",
       "<style scoped>\n",
       "    .dataframe tbody tr th:only-of-type {\n",
       "        vertical-align: middle;\n",
       "    }\n",
       "\n",
       "    .dataframe tbody tr th {\n",
       "        vertical-align: top;\n",
       "    }\n",
       "\n",
       "    .dataframe thead th {\n",
       "        text-align: right;\n",
       "    }\n",
       "</style>\n",
       "<table border=\"1\" class=\"dataframe\">\n",
       "  <thead>\n",
       "    <tr style=\"text-align: right;\">\n",
       "      <th></th>\n",
       "      <th>hocs</th>\n",
       "      <th>plant_name</th>\n",
       "    </tr>\n",
       "  </thead>\n",
       "  <tbody>\n",
       "    <tr>\n",
       "      <th>0</th>\n",
       "      <td>[210   0   0   0   0   0   0   0  74   0   0  ...</td>\n",
       "      <td>acer_campestre</td>\n",
       "    </tr>\n",
       "    <tr>\n",
       "      <th>1</th>\n",
       "      <td>[325   0   0   0   0   0   0   0 157   0   0  ...</td>\n",
       "      <td>acer_campestre</td>\n",
       "    </tr>\n",
       "    <tr>\n",
       "      <th>2</th>\n",
       "      <td>[496   0   0   0   0   0   0   0 195   0   0  ...</td>\n",
       "      <td>acer_campestre</td>\n",
       "    </tr>\n",
       "    <tr>\n",
       "      <th>3</th>\n",
       "      <td>[516   0   0   0   0   0   0   0 193   0   0  ...</td>\n",
       "      <td>acer_campestre</td>\n",
       "    </tr>\n",
       "    <tr>\n",
       "      <th>4</th>\n",
       "      <td>[232   0   0   0   0   0   0   0 128   0   0  ...</td>\n",
       "      <td>acer_campestre</td>\n",
       "    </tr>\n",
       "    <tr>\n",
       "      <th>...</th>\n",
       "      <td>...</td>\n",
       "      <td>...</td>\n",
       "    </tr>\n",
       "    <tr>\n",
       "      <th>900</th>\n",
       "      <td>[222   0   0   0   0   0   0   0 120   0   0  ...</td>\n",
       "      <td>zelkova_serrata</td>\n",
       "    </tr>\n",
       "    <tr>\n",
       "      <th>901</th>\n",
       "      <td>[222   0   0   0   0   0   0   0 121   0   0  ...</td>\n",
       "      <td>zelkova_serrata</td>\n",
       "    </tr>\n",
       "    <tr>\n",
       "      <th>902</th>\n",
       "      <td>[280   0   0   0   0   0   0   0 119   0   0  ...</td>\n",
       "      <td>zelkova_serrata</td>\n",
       "    </tr>\n",
       "    <tr>\n",
       "      <th>903</th>\n",
       "      <td>[230   0   0   0   0   0   0   0 134   0   0  ...</td>\n",
       "      <td>zelkova_serrata</td>\n",
       "    </tr>\n",
       "    <tr>\n",
       "      <th>904</th>\n",
       "      <td>[252   0   0   0   0   0   0   0 129   0   0  ...</td>\n",
       "      <td>zelkova_serrata</td>\n",
       "    </tr>\n",
       "  </tbody>\n",
       "</table>\n",
       "<p>905 rows × 2 columns</p>\n",
       "</div>"
      ],
      "text/plain": [
       "                                                  hocs       plant_name\n",
       "0    [210   0   0   0   0   0   0   0  74   0   0  ...   acer_campestre\n",
       "1    [325   0   0   0   0   0   0   0 157   0   0  ...   acer_campestre\n",
       "2    [496   0   0   0   0   0   0   0 195   0   0  ...   acer_campestre\n",
       "3    [516   0   0   0   0   0   0   0 193   0   0  ...   acer_campestre\n",
       "4    [232   0   0   0   0   0   0   0 128   0   0  ...   acer_campestre\n",
       "..                                                 ...              ...\n",
       "900  [222   0   0   0   0   0   0   0 120   0   0  ...  zelkova_serrata\n",
       "901  [222   0   0   0   0   0   0   0 121   0   0  ...  zelkova_serrata\n",
       "902  [280   0   0   0   0   0   0   0 119   0   0  ...  zelkova_serrata\n",
       "903  [230   0   0   0   0   0   0   0 134   0   0  ...  zelkova_serrata\n",
       "904  [252   0   0   0   0   0   0   0 129   0   0  ...  zelkova_serrata\n",
       "\n",
       "[905 rows x 2 columns]"
      ]
     },
     "execution_count": 64,
     "metadata": {},
     "output_type": "execute_result"
    }
   ],
   "source": [
    "import pandas as pd\n",
    "import ast\n",
    "\n",
    "hocs = pd.read_csv(\"../csv/HoCs.csv\")\n",
    "hocs = hocs.reset_index(drop=True)\n",
    "hocs"
   ]
  },
  {
   "cell_type": "code",
   "execution_count": 78,
   "metadata": {},
   "outputs": [],
   "source": [
    "hocs_list = list(hocs['hocs'])\n",
    "clean_hocs = []\n",
    "plants = hocs['plant_name']\n",
    "\n",
    "for _hocs in hocs_list:\n",
    "    # Remove the square brackets at the beginning and end of the string\n",
    "    data_string = _hocs.strip(\"[]\")\n",
    "\n",
    "    # Split the string by ',,,' to get individual elements\n",
    "    elements = data_string.split(\" \")\n",
    "    elements = [x.replace(\"\\n\", \"\") for x in elements]\n",
    "    data_list = list(filter(lambda x: x != '', elements))\n",
    "    data_list = [int(x) for x in data_list]\n",
    "    clean_hocs.append(data_list)"
   ]
  },
  {
   "cell_type": "code",
   "execution_count": 83,
   "metadata": {},
   "outputs": [],
   "source": [
    "data = [clean_hocs, plants]"
   ]
  },
  {
   "attachments": {},
   "cell_type": "markdown",
   "metadata": {},
   "source": [
    "# Nearest Neighbors - Training"
   ]
  },
  {
   "cell_type": "code",
   "execution_count": 85,
   "metadata": {},
   "outputs": [],
   "source": [
    "from sklearn.neighbors import KNeighborsClassifier\n",
    "from sklearn.model_selection import train_test_split\n",
    "from sklearn.metrics import accuracy_score\n",
    "from sklearn.preprocessing import StandardScaler\n",
    "from sklearn.neighbors import NearestNeighbors\n",
    "from sklearn.neighbors import KNeighborsClassifier\n",
    "from sklearn.metrics import classification_report\n",
    "import numpy as np"
   ]
  },
  {
   "cell_type": "code",
   "execution_count": 104,
   "metadata": {},
   "outputs": [
    {
     "data": {
      "text/html": [
       "<style>#sk-container-id-3 {color: black;background-color: white;}#sk-container-id-3 pre{padding: 0;}#sk-container-id-3 div.sk-toggleable {background-color: white;}#sk-container-id-3 label.sk-toggleable__label {cursor: pointer;display: block;width: 100%;margin-bottom: 0;padding: 0.3em;box-sizing: border-box;text-align: center;}#sk-container-id-3 label.sk-toggleable__label-arrow:before {content: \"▸\";float: left;margin-right: 0.25em;color: #696969;}#sk-container-id-3 label.sk-toggleable__label-arrow:hover:before {color: black;}#sk-container-id-3 div.sk-estimator:hover label.sk-toggleable__label-arrow:before {color: black;}#sk-container-id-3 div.sk-toggleable__content {max-height: 0;max-width: 0;overflow: hidden;text-align: left;background-color: #f0f8ff;}#sk-container-id-3 div.sk-toggleable__content pre {margin: 0.2em;color: black;border-radius: 0.25em;background-color: #f0f8ff;}#sk-container-id-3 input.sk-toggleable__control:checked~div.sk-toggleable__content {max-height: 200px;max-width: 100%;overflow: auto;}#sk-container-id-3 input.sk-toggleable__control:checked~label.sk-toggleable__label-arrow:before {content: \"▾\";}#sk-container-id-3 div.sk-estimator input.sk-toggleable__control:checked~label.sk-toggleable__label {background-color: #d4ebff;}#sk-container-id-3 div.sk-label input.sk-toggleable__control:checked~label.sk-toggleable__label {background-color: #d4ebff;}#sk-container-id-3 input.sk-hidden--visually {border: 0;clip: rect(1px 1px 1px 1px);clip: rect(1px, 1px, 1px, 1px);height: 1px;margin: -1px;overflow: hidden;padding: 0;position: absolute;width: 1px;}#sk-container-id-3 div.sk-estimator {font-family: monospace;background-color: #f0f8ff;border: 1px dotted black;border-radius: 0.25em;box-sizing: border-box;margin-bottom: 0.5em;}#sk-container-id-3 div.sk-estimator:hover {background-color: #d4ebff;}#sk-container-id-3 div.sk-parallel-item::after {content: \"\";width: 100%;border-bottom: 1px solid gray;flex-grow: 1;}#sk-container-id-3 div.sk-label:hover label.sk-toggleable__label {background-color: #d4ebff;}#sk-container-id-3 div.sk-serial::before {content: \"\";position: absolute;border-left: 1px solid gray;box-sizing: border-box;top: 0;bottom: 0;left: 50%;z-index: 0;}#sk-container-id-3 div.sk-serial {display: flex;flex-direction: column;align-items: center;background-color: white;padding-right: 0.2em;padding-left: 0.2em;position: relative;}#sk-container-id-3 div.sk-item {position: relative;z-index: 1;}#sk-container-id-3 div.sk-parallel {display: flex;align-items: stretch;justify-content: center;background-color: white;position: relative;}#sk-container-id-3 div.sk-item::before, #sk-container-id-3 div.sk-parallel-item::before {content: \"\";position: absolute;border-left: 1px solid gray;box-sizing: border-box;top: 0;bottom: 0;left: 50%;z-index: -1;}#sk-container-id-3 div.sk-parallel-item {display: flex;flex-direction: column;z-index: 1;position: relative;background-color: white;}#sk-container-id-3 div.sk-parallel-item:first-child::after {align-self: flex-end;width: 50%;}#sk-container-id-3 div.sk-parallel-item:last-child::after {align-self: flex-start;width: 50%;}#sk-container-id-3 div.sk-parallel-item:only-child::after {width: 0;}#sk-container-id-3 div.sk-dashed-wrapped {border: 1px dashed gray;margin: 0 0.4em 0.5em 0.4em;box-sizing: border-box;padding-bottom: 0.4em;background-color: white;}#sk-container-id-3 div.sk-label label {font-family: monospace;font-weight: bold;display: inline-block;line-height: 1.2em;}#sk-container-id-3 div.sk-label-container {text-align: center;}#sk-container-id-3 div.sk-container {/* jupyter's `normalize.less` sets `[hidden] { display: none; }` but bootstrap.min.css set `[hidden] { display: none !important; }` so we also need the `!important` here to be able to override the default hidden behavior on the sphinx rendered scikit-learn.org. See: https://github.com/scikit-learn/scikit-learn/issues/21755 */display: inline-block !important;position: relative;}#sk-container-id-3 div.sk-text-repr-fallback {display: none;}</style><div id=\"sk-container-id-3\" class=\"sk-top-container\"><div class=\"sk-text-repr-fallback\"><pre>NearestNeighbors(algorithm=&#x27;brute&#x27;, metric=&#x27;cosine&#x27;, n_neighbors=15)</pre><b>In a Jupyter environment, please rerun this cell to show the HTML representation or trust the notebook. <br />On GitHub, the HTML representation is unable to render, please try loading this page with nbviewer.org.</b></div><div class=\"sk-container\" hidden><div class=\"sk-item\"><div class=\"sk-estimator sk-toggleable\"><input class=\"sk-toggleable__control sk-hidden--visually\" id=\"sk-estimator-id-3\" type=\"checkbox\" checked><label for=\"sk-estimator-id-3\" class=\"sk-toggleable__label sk-toggleable__label-arrow\">NearestNeighbors</label><div class=\"sk-toggleable__content\"><pre>NearestNeighbors(algorithm=&#x27;brute&#x27;, metric=&#x27;cosine&#x27;, n_neighbors=15)</pre></div></div></div></div></div>"
      ],
      "text/plain": [
       "NearestNeighbors(algorithm='brute', metric='cosine', n_neighbors=15)"
      ]
     },
     "execution_count": 104,
     "metadata": {},
     "output_type": "execute_result"
    }
   ],
   "source": [
    "from sklearn.neighbors import NearestNeighbors\n",
    "import numpy as np\n",
    "\n",
    "# Create a nearest neighbors object with n_neighbors set to 25\n",
    "nbrs = NearestNeighbors(n_neighbors=15, algorithm='brute', metric='cosine').fit(data[0])\n",
    "nbrs"
   ]
  },
  {
   "cell_type": "code",
   "execution_count": 105,
   "metadata": {},
   "outputs": [
    {
     "name": "stdout",
     "output_type": "stream",
     "text": [
      "25\n"
     ]
    }
   ],
   "source": [
    "input_hist = np.array(data[0][6])\n",
    "print(len(input_hist))"
   ]
  },
  {
   "cell_type": "code",
   "execution_count": 106,
   "metadata": {},
   "outputs": [
    {
     "data": {
      "text/plain": [
       "array([[409,   0,   0,   0,   0,   0,   0,   0, 128,   0,   0,   0,   0,\n",
       "          0,   0,   0,   0,   2,   0,   0,   0,   0,   0,   0, 127]])"
      ]
     },
     "execution_count": 106,
     "metadata": {},
     "output_type": "execute_result"
    }
   ],
   "source": [
    "# Use the HoCS feature vector extracted from the input image as the query\n",
    "query = input_hist.reshape(1, -1)\n",
    "query"
   ]
  },
  {
   "cell_type": "code",
   "execution_count": 107,
   "metadata": {},
   "outputs": [],
   "source": [
    "# Perform the nearest neighbors search\n",
    "distances, indices = nbrs.kneighbors(query)"
   ]
  },
  {
   "cell_type": "code",
   "execution_count": 108,
   "metadata": {},
   "outputs": [
    {
     "name": "stdout",
     "output_type": "stream",
     "text": [
      "Match 0 Species: acer_campestre Distance: 0.0\n",
      "Match 1 Species: acer_campestre Distance: 4.357972403257193e-05\n",
      "Match 2 Species: acer_pensylvanicum Distance: 6.261407713259448e-05\n",
      "Match 3 Species: styrax_japonica Distance: 0.00012047695315253737\n",
      "Match 4 Species: acer_ginnala Distance: 0.00012195257363945\n",
      "Match 5 Species: styrax_japonica Distance: 0.0001453461861978811\n",
      "Match 6 Species: acer_campestre Distance: 0.0001798663199383821\n",
      "Match 7 Species: acer_campestre Distance: 0.00018967753652621155\n",
      "Match 8 Species: acer_campestre Distance: 0.0003472626020611935\n",
      "Match 9 Species: acer_ginnala Distance: 0.000384826148973727\n",
      "Match 10 Species: acer_campestre Distance: 0.00041545821866517674\n",
      "Match 11 Species: acer_ginnala Distance: 0.0005305786130445078\n",
      "Match 12 Species: acer_ginnala Distance: 0.0007311282631128346\n",
      "Match 13 Species: acer_pensylvanicum Distance: 0.0009465076501110614\n",
      "Match 14 Species: quercus_nigra Distance: 0.0012187060176337416\n"
     ]
    }
   ],
   "source": [
    "import matplotlib.pyplot as plt\n",
    "from PIL import Image\n",
    "\n",
    "# Show the top n matches to the user\n",
    "for i in range(len(indices[0])):\n",
    "    index = indices[0][i]\n",
    "    distance = distances[0][i]\n",
    "    species = data[1][index]\n",
    "\n",
    "    print(f\"Match {i} Species: {data[1][index]} Distance: {distance}\")"
   ]
  },
  {
   "cell_type": "code",
   "execution_count": 110,
   "metadata": {},
   "outputs": [],
   "source": [
    "# Initialize the nearest neighbors model\n",
    "nn_model = NearestNeighbors(n_neighbors=15, algorithm='brute', metric='cosine')\n",
    "\n",
    "species_match_ranks = []\n",
    "for i in range(len(data[0])):\n",
    "     # Use the i-th field image as query, and remove it from the field features array\n",
    "    query = data[0][i]\n",
    "    field_features_minus_query = np.delete(data[0], i, axis=0)\n",
    "\n",
    "    # Train the nearest neighbors model on the remaining field images\n",
    "    nn_model.fit(field_features_minus_query)\n",
    "\n",
    "    query = np.array(query)\n",
    "    # Find the nearest neighbors and their labels for the query image\n",
    "    distances, indices = nn_model.kneighbors(query.reshape(1, -1))\n",
    "\n",
    "    # Evaluate the rank of the correct species match for the query image\n",
    "    correct_species = data[1][i]\n",
    "    species_neighbors = data[1][indices.flatten()]\n",
    "    species_neighbors_arr = np.array(species_neighbors)\n",
    "\n",
    "    if correct_species in species_neighbors_arr:\n",
    "        correct_species_rank = np.where(species_neighbors_arr == correct_species)[0][0] + 1  # add 1 to convert to rank\n",
    "        \n",
    "    species_match_ranks.append(correct_species_rank)\n"
   ]
  },
  {
   "cell_type": "code",
   "execution_count": 111,
   "metadata": {},
   "outputs": [
    {
     "name": "stdout",
     "output_type": "stream",
     "text": [
      "Recognition Rate (Rank 1): 22.54%\n",
      "Recognition Rate (Rank 2): 34.36%\n",
      "Recognition Rate (Rank 3): 45.08%\n",
      "Recognition Rate (Rank 4): 52.27%\n",
      "Recognition Rate (Rank 5): 57.57%\n",
      "Recognition Rate (Rank 6): 64.31%\n",
      "Recognition Rate (Rank 7): 68.84%\n",
      "Recognition Rate (Rank 8): 72.15%\n",
      "Recognition Rate (Rank 9): 77.79%\n",
      "Recognition Rate (Rank 10): 82.21%\n",
      "Recognition Rate (Rank 11): 86.85%\n",
      "Recognition Rate (Rank 12): 90.06%\n",
      "Recognition Rate (Rank 13): 95.14%\n",
      "Recognition Rate (Rank 14): 97.68%\n",
      "Recognition Rate (Rank 15): 100.00%\n"
     ]
    }
   ],
   "source": [
    "# Calculate the recognition rate for each rank\n",
    "recognition_rates = []\n",
    "for rank in range(1, 15 + 1):\n",
    "    count_correct_species = sum([1 for r in species_match_ranks if r is not None and r <= rank])\n",
    "    recognition_rate = count_correct_species / len([r for r in species_match_ranks if r is not None])\n",
    "    recognition_rates.append(recognition_rate)\n",
    "\n",
    "# Print the recognition rate for each rank\n",
    "for rank, rate in enumerate(recognition_rates, start=1):\n",
    "    print(\"Recognition Rate (Rank {}): {:.2f}%\".format(rank, rate * 100))"
   ]
  },
  {
   "cell_type": "code",
   "execution_count": 115,
   "metadata": {},
   "outputs": [
    {
     "data": {
      "image/png": "[encoded data removed]",
      "text/plain": [
       "<Figure size 640x480 with 1 Axes>"
      ]
     },
     "metadata": {},
     "output_type": "display_data"
    }
   ],
   "source": [
    "import matplotlib.pyplot as plt\n",
    "\n",
    "# Plot the lists on the same plot\n",
    "plt.plot(recognition_rates, label='HoCs', marker='o')\n",
    "\n",
    "# Set the axis labels and legend\n",
    "plt.xlabel('Maximum Species Match Index')\n",
    "plt.ylabel('%')\n",
    "plt.legend()\n",
    "\n",
    "# Show the plot\n",
    "plt.show()"
   ]
  }
 ],
 "metadata": {
  "kernelspec": {
   "display_name": "tf2.4",
   "language": "python",
   "name": "python3"
  },
  "language_info": {
   "codemirror_mode": {
    "name": "ipython",
    "version": 3
   },
   "file_extension": ".py",
   "mimetype": "text/x-python",
   "name": "python",
   "nbconvert_exporter": "python",
   "pygments_lexer": "ipython3",
   "version": "3.8.0"
  },
  "orig_nbformat": 4
 },
 "nbformat": 4,
 "nbformat_minor": 2
}
